{
  "nbformat": 4,
  "nbformat_minor": 0,
  "metadata": {
    "colab": {
      "name": "hw3.ipynb",
      "provenance": [],
      "collapsed_sections": [],
      "toc_visible": true,
      "authorship_tag": "ABX9TyP0iVy6BRBxZf3h9oW35XOP",
      "include_colab_link": true
    },
    "kernelspec": {
      "name": "python3",
      "display_name": "Python 3"
    }
  },
  "cells": [
    {
      "cell_type": "markdown",
      "metadata": {
        "id": "view-in-github",
        "colab_type": "text"
      },
      "source": [
        "<a href=\"https://colab.research.google.com/github/shanedes/AI/blob/master/hw3.ipynb\" target=\"_parent\"><img src=\"https://colab.research.google.com/assets/colab-badge.svg\" alt=\"Open In Colab\"/></a>"
      ]
    },
    {
      "cell_type": "markdown",
      "metadata": {
        "id": "8qI0fNsQpyQu",
        "colab_type": "text"
      },
      "source": [
        "**important note: this code must all be compiled sequentially*"
      ]
    },
    {
      "cell_type": "markdown",
      "metadata": {
        "id": "k9pG73A3Xkr9",
        "colab_type": "text"
      },
      "source": [
        "# Problem 1"
      ]
    },
    {
      "cell_type": "markdown",
      "metadata": {
        "id": "xksGzRNUXv_Z",
        "colab_type": "text"
      },
      "source": [
        "imports"
      ]
    },
    {
      "cell_type": "code",
      "metadata": {
        "id": "_c_VfNotX4DP",
        "colab_type": "code",
        "colab": {}
      },
      "source": [
        "from mpl_toolkits import mplot3d\n",
        "%matplotlib inline\n",
        "import numpy as np\n",
        "import matplotlib.pyplot as plt"
      ],
      "execution_count": 0,
      "outputs": []
    },
    {
      "cell_type": "markdown",
      "metadata": {
        "id": "GpfPPQS0YD3l",
        "colab_type": "text"
      },
      "source": [
        "function that generates m points of x,y data and labels"
      ]
    },
    {
      "cell_type": "code",
      "metadata": {
        "id": "aFlWoYibX74x",
        "colab_type": "code",
        "colab": {}
      },
      "source": [
        "def get_random_data(w, b, mu, sigma, m):\n",
        "    \n",
        "    c = np.random.randint(0, 2, size=m)\n",
        "    \n",
        "    # uniform distribution on [0,1) for x_1\n",
        "    x_1 = np.random.rand(m)\n",
        "    \n",
        "    # normal distribution for noise\n",
        "    n = np.random.normal(mu, sigma, m)\n",
        "    x_2 = w * x_1 + b + (-1)**c * n\n",
        "    data = np.column_stack((x_1, x_2))\n",
        "    labels = c\n",
        "\n",
        "    return (data, labels)"
      ],
      "execution_count": 0,
      "outputs": []
    },
    {
      "cell_type": "markdown",
      "metadata": {
        "id": "NzvQ0t41YgeE",
        "colab_type": "text"
      },
      "source": [
        "function that creates a scatterplot of the first 1000 points (at most) of data.\n",
        "\n",
        "The plot is restricted to 1000 points to reduce compile time and to increase visibilty\n",
        "\n"
      ]
    },
    {
      "cell_type": "code",
      "metadata": {
        "id": "G1EHvNF7Yv9m",
        "colab_type": "code",
        "colab": {}
      },
      "source": [
        "def display_random_data(data, labels):\n",
        "  points = np.column_stack((data, labels))\n",
        "  # only display at most 1000\n",
        "  if data.size > 1000:\n",
        "    points = points[:1000]\n",
        "  for p in points:\n",
        "    plt.scatter(p[0], p[1], color='red' if p[2]==1 else 'blue')\n",
        "  plt.show()"
      ],
      "execution_count": 0,
      "outputs": []
    },
    {
      "cell_type": "markdown",
      "metadata": {
        "id": "Pbvg53esY0IW",
        "colab_type": "text"
      },
      "source": [
        "generating data and then displaying it"
      ]
    },
    {
      "cell_type": "code",
      "metadata": {
        "id": "XV8J8dsLV1El",
        "colab_type": "code",
        "outputId": "eb37dfa4-7601-4d1c-dced-cc12449a5531",
        "colab": {
          "base_uri": "https://localhost:8080/",
          "height": 265
        }
      },
      "source": [
        "# seed the random variable\n",
        "np.random.seed(42)\n",
        "w = 10\n",
        "b = 2\n",
        "mu = 1\n",
        "sigma = 1\n",
        "m = 10000\n",
        "data, labels = get_random_data(w, b, mu, sigma, m)\n",
        "display_random_data(data, labels)"
      ],
      "execution_count": 5,
      "outputs": [
        {
          "output_type": "display_data",
          "data": {
            "image/png": "[encoded data removed]",
            "text/plain": [
              "<Figure size 432x288 with 1 Axes>"
            ]
          },
          "metadata": {
            "tags": [],
            "needs_background": "light"
          }
        }
      ]
    },
    {
      "cell_type": "markdown",
      "metadata": {
        "id": "VW5cQ-WoZC8b",
        "colab_type": "text"
      },
      "source": [
        "split the data 80% into training data and 20% into testing data"
      ]
    },
    {
      "cell_type": "code",
      "metadata": {
        "id": "U955_pkIZJ-o",
        "colab_type": "code",
        "colab": {}
      },
      "source": [
        "split = (int)(m*.8)\n",
        "train_data = data[:split]\n",
        "train_label = labels[:split]\n",
        "test_data = data[split:]\n",
        "test_label = labels[split:]"
      ],
      "execution_count": 0,
      "outputs": []
    },
    {
      "cell_type": "markdown",
      "metadata": {
        "id": "Ctea8-QTa46G",
        "colab_type": "text"
      },
      "source": [
        "# Problem 2"
      ]
    },
    {
      "cell_type": "markdown",
      "metadata": {
        "id": "1NNxBm1wa875",
        "colab_type": "text"
      },
      "source": [
        "Imports"
      ]
    },
    {
      "cell_type": "code",
      "metadata": {
        "id": "X5j0P71Ia_S_",
        "colab_type": "code",
        "colab": {}
      },
      "source": [
        "%tensorflow_version 2.x\n",
        "from tensorflow.keras import models\n",
        "from tensorflow.keras import layers\n",
        "from tensorflow.keras import optimizers"
      ],
      "execution_count": 0,
      "outputs": []
    },
    {
      "cell_type": "markdown",
      "metadata": {
        "id": "CTP-efa-bCx9",
        "colab_type": "text"
      },
      "source": [
        "create a model with  binary cross entropy loss and sigmoid activation\n",
        "\n"
      ]
    },
    {
      "cell_type": "code",
      "metadata": {
        "id": "UPUYg6jdbJ8L",
        "colab_type": "code",
        "colab": {}
      },
      "source": [
        "network = models.Sequential()\n",
        "network.add(layers.Dense(1, activation = 'sigmoid', input_shape=(2,)))\n",
        "network.compile(optimizers.RMSprop(lr=0.01),\n",
        "                loss='binary_crossentropy',\n",
        "                metrics=['accuracy'])"
      ],
      "execution_count": 0,
      "outputs": []
    },
    {
      "cell_type": "markdown",
      "metadata": {
        "id": "AstET495bLSO",
        "colab_type": "text"
      },
      "source": [
        "train model with data produced from problem 1"
      ]
    },
    {
      "cell_type": "code",
      "metadata": {
        "id": "jfURHwNUnfxq",
        "colab_type": "code",
        "outputId": "38a875d1-90e6-4774-b3dc-32512c82d9ed",
        "colab": {
          "base_uri": "https://localhost:8080/",
          "height": 1000
        }
      },
      "source": [
        "history = network.fit(test_data, \n",
        "                      test_label,\n",
        "                      epochs=300,\n",
        "                      batch_size=512,\n",
        "                      validation_data=(train_data, train_label))"
      ],
      "execution_count": 9,
      "outputs": [
        {
          "output_type": "stream",
          "text": [
            "Epoch 1/300\n",
            "4/4 [==============================] - 0s 45ms/step - loss: 0.7109 - accuracy: 0.4335 - val_loss: 0.7050 - val_accuracy: 0.4971\n",
            "Epoch 2/300\n",
            "4/4 [==============================] - 0s 12ms/step - loss: 0.7040 - accuracy: 0.4950 - val_loss: 0.6999 - val_accuracy: 0.5151\n",
            "Epoch 3/300\n",
            "4/4 [==============================] - 0s 13ms/step - loss: 0.7001 - accuracy: 0.5200 - val_loss: 0.6958 - val_accuracy: 0.5113\n",
            "Epoch 4/300\n",
            "4/4 [==============================] - 0s 12ms/step - loss: 0.6960 - accuracy: 0.5215 - val_loss: 0.6932 - val_accuracy: 0.5121\n",
            "Epoch 5/300\n",
            "4/4 [==============================] - 0s 13ms/step - loss: 0.6918 - accuracy: 0.5210 - val_loss: 0.6888 - val_accuracy: 0.5322\n",
            "Epoch 6/300\n",
            "4/4 [==============================] - 0s 14ms/step - loss: 0.6898 - accuracy: 0.5275 - val_loss: 0.6860 - val_accuracy: 0.5476\n",
            "Epoch 7/300\n",
            "4/4 [==============================] - 0s 12ms/step - loss: 0.6861 - accuracy: 0.5490 - val_loss: 0.6826 - val_accuracy: 0.5487\n",
            "Epoch 8/300\n",
            "4/4 [==============================] - 0s 13ms/step - loss: 0.6834 - accuracy: 0.5550 - val_loss: 0.6803 - val_accuracy: 0.5502\n",
            "Epoch 9/300\n",
            "4/4 [==============================] - 0s 14ms/step - loss: 0.6801 - accuracy: 0.5600 - val_loss: 0.6769 - val_accuracy: 0.5606\n",
            "Epoch 10/300\n",
            "4/4 [==============================] - 0s 14ms/step - loss: 0.6784 - accuracy: 0.5595 - val_loss: 0.6742 - val_accuracy: 0.5652\n",
            "Epoch 11/300\n",
            "4/4 [==============================] - 0s 12ms/step - loss: 0.6744 - accuracy: 0.5675 - val_loss: 0.6717 - val_accuracy: 0.5698\n",
            "Epoch 12/300\n",
            "4/4 [==============================] - 0s 12ms/step - loss: 0.6718 - accuracy: 0.5785 - val_loss: 0.6694 - val_accuracy: 0.5754\n",
            "Epoch 13/300\n",
            "4/4 [==============================] - 0s 13ms/step - loss: 0.6696 - accuracy: 0.5750 - val_loss: 0.6655 - val_accuracy: 0.5791\n",
            "Epoch 14/300\n",
            "4/4 [==============================] - 0s 12ms/step - loss: 0.6673 - accuracy: 0.5825 - val_loss: 0.6637 - val_accuracy: 0.5865\n",
            "Epoch 15/300\n",
            "4/4 [==============================] - 0s 12ms/step - loss: 0.6648 - accuracy: 0.5930 - val_loss: 0.6638 - val_accuracy: 0.5914\n",
            "Epoch 16/300\n",
            "4/4 [==============================] - 0s 12ms/step - loss: 0.6631 - accuracy: 0.5855 - val_loss: 0.6603 - val_accuracy: 0.5954\n",
            "Epoch 17/300\n",
            "4/4 [==============================] - 0s 13ms/step - loss: 0.6596 - accuracy: 0.5980 - val_loss: 0.6563 - val_accuracy: 0.5993\n",
            "Epoch 18/300\n",
            "4/4 [==============================] - 0s 13ms/step - loss: 0.6572 - accuracy: 0.5975 - val_loss: 0.6539 - val_accuracy: 0.6024\n",
            "Epoch 19/300\n",
            "4/4 [==============================] - 0s 12ms/step - loss: 0.6550 - accuracy: 0.5975 - val_loss: 0.6513 - val_accuracy: 0.6025\n",
            "Epoch 20/300\n",
            "4/4 [==============================] - 0s 12ms/step - loss: 0.6524 - accuracy: 0.6070 - val_loss: 0.6517 - val_accuracy: 0.6131\n",
            "Epoch 21/300\n",
            "4/4 [==============================] - 0s 13ms/step - loss: 0.6511 - accuracy: 0.6030 - val_loss: 0.6468 - val_accuracy: 0.6140\n",
            "Epoch 22/300\n",
            "4/4 [==============================] - 0s 13ms/step - loss: 0.6503 - accuracy: 0.6050 - val_loss: 0.6447 - val_accuracy: 0.6134\n",
            "Epoch 23/300\n",
            "4/4 [==============================] - 0s 12ms/step - loss: 0.6461 - accuracy: 0.6150 - val_loss: 0.6436 - val_accuracy: 0.6200\n",
            "Epoch 24/300\n",
            "4/4 [==============================] - 0s 13ms/step - loss: 0.6461 - accuracy: 0.6150 - val_loss: 0.6409 - val_accuracy: 0.6186\n",
            "Epoch 25/300\n",
            "4/4 [==============================] - 0s 12ms/step - loss: 0.6432 - accuracy: 0.6165 - val_loss: 0.6391 - val_accuracy: 0.6254\n",
            "Epoch 26/300\n",
            "4/4 [==============================] - 0s 14ms/step - loss: 0.6412 - accuracy: 0.6165 - val_loss: 0.6377 - val_accuracy: 0.6290\n",
            "Epoch 27/300\n",
            "4/4 [==============================] - 0s 12ms/step - loss: 0.6397 - accuracy: 0.6200 - val_loss: 0.6358 - val_accuracy: 0.6334\n",
            "Epoch 28/300\n",
            "4/4 [==============================] - 0s 12ms/step - loss: 0.6369 - accuracy: 0.6190 - val_loss: 0.6332 - val_accuracy: 0.6281\n",
            "Epoch 29/300\n",
            "4/4 [==============================] - 0s 13ms/step - loss: 0.6354 - accuracy: 0.6280 - val_loss: 0.6311 - val_accuracy: 0.6338\n",
            "Epoch 30/300\n",
            "4/4 [==============================] - 0s 12ms/step - loss: 0.6343 - accuracy: 0.6265 - val_loss: 0.6294 - val_accuracy: 0.6373\n",
            "Epoch 31/300\n",
            "4/4 [==============================] - 0s 12ms/step - loss: 0.6313 - accuracy: 0.6265 - val_loss: 0.6277 - val_accuracy: 0.6410\n",
            "Epoch 32/300\n",
            "4/4 [==============================] - 0s 12ms/step - loss: 0.6299 - accuracy: 0.6310 - val_loss: 0.6256 - val_accuracy: 0.6392\n",
            "Epoch 33/300\n",
            "4/4 [==============================] - 0s 12ms/step - loss: 0.6287 - accuracy: 0.6335 - val_loss: 0.6240 - val_accuracy: 0.6457\n",
            "Epoch 34/300\n",
            "4/4 [==============================] - 0s 12ms/step - loss: 0.6262 - accuracy: 0.6370 - val_loss: 0.6224 - val_accuracy: 0.6394\n",
            "Epoch 35/300\n",
            "4/4 [==============================] - 0s 14ms/step - loss: 0.6250 - accuracy: 0.6390 - val_loss: 0.6203 - val_accuracy: 0.6507\n",
            "Epoch 36/300\n",
            "4/4 [==============================] - 0s 12ms/step - loss: 0.6229 - accuracy: 0.6420 - val_loss: 0.6184 - val_accuracy: 0.6503\n",
            "Epoch 37/300\n",
            "4/4 [==============================] - 0s 13ms/step - loss: 0.6211 - accuracy: 0.6410 - val_loss: 0.6167 - val_accuracy: 0.6549\n",
            "Epoch 38/300\n",
            "4/4 [==============================] - 0s 12ms/step - loss: 0.6221 - accuracy: 0.6445 - val_loss: 0.6154 - val_accuracy: 0.6603\n",
            "Epoch 39/300\n",
            "4/4 [==============================] - 0s 13ms/step - loss: 0.6187 - accuracy: 0.6475 - val_loss: 0.6135 - val_accuracy: 0.6570\n",
            "Epoch 40/300\n",
            "4/4 [==============================] - 0s 14ms/step - loss: 0.6162 - accuracy: 0.6500 - val_loss: 0.6125 - val_accuracy: 0.6660\n",
            "Epoch 41/300\n",
            "4/4 [==============================] - 0s 12ms/step - loss: 0.6151 - accuracy: 0.6545 - val_loss: 0.6114 - val_accuracy: 0.6727\n",
            "Epoch 42/300\n",
            "4/4 [==============================] - 0s 13ms/step - loss: 0.6131 - accuracy: 0.6590 - val_loss: 0.6086 - val_accuracy: 0.6618\n",
            "Epoch 43/300\n",
            "4/4 [==============================] - 0s 12ms/step - loss: 0.6121 - accuracy: 0.6600 - val_loss: 0.6086 - val_accuracy: 0.6791\n",
            "Epoch 44/300\n",
            "4/4 [==============================] - 0s 14ms/step - loss: 0.6112 - accuracy: 0.6615 - val_loss: 0.6055 - val_accuracy: 0.6647\n",
            "Epoch 45/300\n",
            "4/4 [==============================] - 0s 13ms/step - loss: 0.6090 - accuracy: 0.6595 - val_loss: 0.6048 - val_accuracy: 0.6796\n",
            "Epoch 46/300\n",
            "4/4 [==============================] - 0s 12ms/step - loss: 0.6089 - accuracy: 0.6610 - val_loss: 0.6038 - val_accuracy: 0.6842\n",
            "Epoch 47/300\n",
            "4/4 [==============================] - 0s 13ms/step - loss: 0.6061 - accuracy: 0.6655 - val_loss: 0.6011 - val_accuracy: 0.6780\n",
            "Epoch 48/300\n",
            "4/4 [==============================] - 0s 12ms/step - loss: 0.6048 - accuracy: 0.6675 - val_loss: 0.6009 - val_accuracy: 0.6888\n",
            "Epoch 49/300\n",
            "4/4 [==============================] - 0s 12ms/step - loss: 0.6044 - accuracy: 0.6740 - val_loss: 0.6000 - val_accuracy: 0.6919\n",
            "Epoch 50/300\n",
            "4/4 [==============================] - 0s 13ms/step - loss: 0.6021 - accuracy: 0.6735 - val_loss: 0.5967 - val_accuracy: 0.6749\n",
            "Epoch 51/300\n",
            "4/4 [==============================] - 0s 13ms/step - loss: 0.5998 - accuracy: 0.6740 - val_loss: 0.5955 - val_accuracy: 0.6881\n",
            "Epoch 52/300\n",
            "4/4 [==============================] - 0s 14ms/step - loss: 0.5992 - accuracy: 0.6775 - val_loss: 0.5937 - val_accuracy: 0.6848\n",
            "Epoch 53/300\n",
            "4/4 [==============================] - 0s 14ms/step - loss: 0.5986 - accuracy: 0.6820 - val_loss: 0.5923 - val_accuracy: 0.6859\n",
            "Epoch 54/300\n",
            "4/4 [==============================] - 0s 13ms/step - loss: 0.5975 - accuracy: 0.6795 - val_loss: 0.5914 - val_accuracy: 0.6936\n",
            "Epoch 55/300\n",
            "4/4 [==============================] - 0s 13ms/step - loss: 0.5980 - accuracy: 0.6790 - val_loss: 0.5922 - val_accuracy: 0.7019\n",
            "Epoch 56/300\n",
            "4/4 [==============================] - 0s 14ms/step - loss: 0.5947 - accuracy: 0.6875 - val_loss: 0.5890 - val_accuracy: 0.6991\n",
            "Epoch 57/300\n",
            "4/4 [==============================] - 0s 14ms/step - loss: 0.5929 - accuracy: 0.6890 - val_loss: 0.5880 - val_accuracy: 0.7010\n",
            "Epoch 58/300\n",
            "4/4 [==============================] - 0s 13ms/step - loss: 0.5915 - accuracy: 0.6875 - val_loss: 0.5862 - val_accuracy: 0.6990\n",
            "Epoch 59/300\n",
            "4/4 [==============================] - 0s 15ms/step - loss: 0.5899 - accuracy: 0.6930 - val_loss: 0.5846 - val_accuracy: 0.6982\n",
            "Epoch 60/300\n",
            "4/4 [==============================] - 0s 13ms/step - loss: 0.5909 - accuracy: 0.6900 - val_loss: 0.5838 - val_accuracy: 0.7059\n",
            "Epoch 61/300\n",
            "4/4 [==============================] - 0s 13ms/step - loss: 0.5877 - accuracy: 0.6965 - val_loss: 0.5825 - val_accuracy: 0.7071\n",
            "Epoch 62/300\n",
            "4/4 [==============================] - 0s 18ms/step - loss: 0.5886 - accuracy: 0.7000 - val_loss: 0.5811 - val_accuracy: 0.7076\n",
            "Epoch 63/300\n",
            "4/4 [==============================] - 0s 13ms/step - loss: 0.5859 - accuracy: 0.7000 - val_loss: 0.5802 - val_accuracy: 0.7129\n",
            "Epoch 64/300\n",
            "4/4 [==============================] - 0s 13ms/step - loss: 0.5844 - accuracy: 0.7025 - val_loss: 0.5783 - val_accuracy: 0.7060\n",
            "Epoch 65/300\n",
            "4/4 [==============================] - 0s 12ms/step - loss: 0.5828 - accuracy: 0.7035 - val_loss: 0.5771 - val_accuracy: 0.7128\n",
            "Epoch 66/300\n",
            "4/4 [==============================] - 0s 13ms/step - loss: 0.5816 - accuracy: 0.7060 - val_loss: 0.5762 - val_accuracy: 0.7164\n",
            "Epoch 67/300\n",
            "4/4 [==============================] - 0s 15ms/step - loss: 0.5799 - accuracy: 0.7065 - val_loss: 0.5742 - val_accuracy: 0.7151\n",
            "Epoch 68/300\n",
            "4/4 [==============================] - 0s 13ms/step - loss: 0.5789 - accuracy: 0.7130 - val_loss: 0.5729 - val_accuracy: 0.7169\n",
            "Epoch 69/300\n",
            "4/4 [==============================] - 0s 13ms/step - loss: 0.5799 - accuracy: 0.7100 - val_loss: 0.5734 - val_accuracy: 0.7226\n",
            "Epoch 70/300\n",
            "4/4 [==============================] - 0s 13ms/step - loss: 0.5768 - accuracy: 0.7175 - val_loss: 0.5705 - val_accuracy: 0.7160\n",
            "Epoch 71/300\n",
            "4/4 [==============================] - 0s 12ms/step - loss: 0.5755 - accuracy: 0.7160 - val_loss: 0.5705 - val_accuracy: 0.7262\n",
            "Epoch 72/300\n",
            "4/4 [==============================] - 0s 15ms/step - loss: 0.5744 - accuracy: 0.7210 - val_loss: 0.5682 - val_accuracy: 0.7275\n",
            "Epoch 73/300\n",
            "4/4 [==============================] - 0s 12ms/step - loss: 0.5734 - accuracy: 0.7180 - val_loss: 0.5666 - val_accuracy: 0.7244\n",
            "Epoch 74/300\n",
            "4/4 [==============================] - 0s 15ms/step - loss: 0.5721 - accuracy: 0.7200 - val_loss: 0.5654 - val_accuracy: 0.7278\n",
            "Epoch 75/300\n",
            "4/4 [==============================] - 0s 13ms/step - loss: 0.5710 - accuracy: 0.7205 - val_loss: 0.5642 - val_accuracy: 0.7304\n",
            "Epoch 76/300\n",
            "4/4 [==============================] - 0s 15ms/step - loss: 0.5697 - accuracy: 0.7255 - val_loss: 0.5632 - val_accuracy: 0.7265\n",
            "Epoch 77/300\n",
            "4/4 [==============================] - 0s 14ms/step - loss: 0.5687 - accuracy: 0.7240 - val_loss: 0.5617 - val_accuracy: 0.7324\n",
            "Epoch 78/300\n",
            "4/4 [==============================] - 0s 14ms/step - loss: 0.5674 - accuracy: 0.7260 - val_loss: 0.5621 - val_accuracy: 0.7221\n",
            "Epoch 79/300\n",
            "4/4 [==============================] - 0s 13ms/step - loss: 0.5666 - accuracy: 0.7255 - val_loss: 0.5597 - val_accuracy: 0.7325\n",
            "Epoch 80/300\n",
            "4/4 [==============================] - 0s 12ms/step - loss: 0.5658 - accuracy: 0.7280 - val_loss: 0.5582 - val_accuracy: 0.7365\n",
            "Epoch 81/300\n",
            "4/4 [==============================] - 0s 14ms/step - loss: 0.5644 - accuracy: 0.7305 - val_loss: 0.5571 - val_accuracy: 0.7386\n",
            "Epoch 82/300\n",
            "4/4 [==============================] - 0s 13ms/step - loss: 0.5636 - accuracy: 0.7320 - val_loss: 0.5562 - val_accuracy: 0.7385\n",
            "Epoch 83/300\n",
            "4/4 [==============================] - 0s 13ms/step - loss: 0.5613 - accuracy: 0.7365 - val_loss: 0.5551 - val_accuracy: 0.7483\n",
            "Epoch 84/300\n",
            "4/4 [==============================] - 0s 13ms/step - loss: 0.5609 - accuracy: 0.7375 - val_loss: 0.5537 - val_accuracy: 0.7475\n",
            "Epoch 85/300\n",
            "4/4 [==============================] - 0s 13ms/step - loss: 0.5587 - accuracy: 0.7395 - val_loss: 0.5525 - val_accuracy: 0.7419\n",
            "Epoch 86/300\n",
            "4/4 [==============================] - 0s 14ms/step - loss: 0.5587 - accuracy: 0.7345 - val_loss: 0.5514 - val_accuracy: 0.7513\n",
            "Epoch 87/300\n",
            "4/4 [==============================] - 0s 13ms/step - loss: 0.5566 - accuracy: 0.7430 - val_loss: 0.5506 - val_accuracy: 0.7412\n",
            "Epoch 88/300\n",
            "4/4 [==============================] - 0s 13ms/step - loss: 0.5558 - accuracy: 0.7395 - val_loss: 0.5490 - val_accuracy: 0.7558\n",
            "Epoch 89/300\n",
            "4/4 [==============================] - 0s 13ms/step - loss: 0.5548 - accuracy: 0.7410 - val_loss: 0.5476 - val_accuracy: 0.7561\n",
            "Epoch 90/300\n",
            "4/4 [==============================] - 0s 14ms/step - loss: 0.5534 - accuracy: 0.7470 - val_loss: 0.5470 - val_accuracy: 0.7441\n",
            "Epoch 91/300\n",
            "4/4 [==============================] - 0s 17ms/step - loss: 0.5538 - accuracy: 0.7430 - val_loss: 0.5453 - val_accuracy: 0.7579\n",
            "Epoch 92/300\n",
            "4/4 [==============================] - 0s 14ms/step - loss: 0.5519 - accuracy: 0.7450 - val_loss: 0.5444 - val_accuracy: 0.7500\n",
            "Epoch 93/300\n",
            "4/4 [==============================] - 0s 13ms/step - loss: 0.5517 - accuracy: 0.7415 - val_loss: 0.5431 - val_accuracy: 0.7589\n",
            "Epoch 94/300\n",
            "4/4 [==============================] - 0s 13ms/step - loss: 0.5491 - accuracy: 0.7545 - val_loss: 0.5425 - val_accuracy: 0.7630\n",
            "Epoch 95/300\n",
            "4/4 [==============================] - 0s 13ms/step - loss: 0.5484 - accuracy: 0.7515 - val_loss: 0.5411 - val_accuracy: 0.7538\n",
            "Epoch 96/300\n",
            "4/4 [==============================] - 0s 15ms/step - loss: 0.5488 - accuracy: 0.7465 - val_loss: 0.5406 - val_accuracy: 0.7679\n",
            "Epoch 97/300\n",
            "4/4 [==============================] - 0s 14ms/step - loss: 0.5463 - accuracy: 0.7555 - val_loss: 0.5390 - val_accuracy: 0.7676\n",
            "Epoch 98/300\n",
            "4/4 [==============================] - 0s 15ms/step - loss: 0.5457 - accuracy: 0.7550 - val_loss: 0.5388 - val_accuracy: 0.7700\n",
            "Epoch 99/300\n",
            "4/4 [==============================] - 0s 13ms/step - loss: 0.5446 - accuracy: 0.7600 - val_loss: 0.5374 - val_accuracy: 0.7729\n",
            "Epoch 100/300\n",
            "4/4 [==============================] - 0s 14ms/step - loss: 0.5425 - accuracy: 0.7640 - val_loss: 0.5355 - val_accuracy: 0.7635\n",
            "Epoch 101/300\n",
            "4/4 [==============================] - 0s 13ms/step - loss: 0.5421 - accuracy: 0.7585 - val_loss: 0.5347 - val_accuracy: 0.7714\n",
            "Epoch 102/300\n",
            "4/4 [==============================] - 0s 12ms/step - loss: 0.5411 - accuracy: 0.7570 - val_loss: 0.5354 - val_accuracy: 0.7736\n",
            "Epoch 103/300\n",
            "4/4 [==============================] - 0s 12ms/step - loss: 0.5403 - accuracy: 0.7595 - val_loss: 0.5326 - val_accuracy: 0.7753\n",
            "Epoch 104/300\n",
            "4/4 [==============================] - 0s 12ms/step - loss: 0.5386 - accuracy: 0.7620 - val_loss: 0.5311 - val_accuracy: 0.7699\n",
            "Epoch 105/300\n",
            "4/4 [==============================] - 0s 13ms/step - loss: 0.5373 - accuracy: 0.7635 - val_loss: 0.5313 - val_accuracy: 0.7601\n",
            "Epoch 106/300\n",
            "4/4 [==============================] - 0s 13ms/step - loss: 0.5377 - accuracy: 0.7555 - val_loss: 0.5303 - val_accuracy: 0.7790\n",
            "Epoch 107/300\n",
            "4/4 [==============================] - 0s 13ms/step - loss: 0.5359 - accuracy: 0.7665 - val_loss: 0.5283 - val_accuracy: 0.7784\n",
            "Epoch 108/300\n",
            "4/4 [==============================] - 0s 14ms/step - loss: 0.5349 - accuracy: 0.7665 - val_loss: 0.5275 - val_accuracy: 0.7793\n",
            "Epoch 109/300\n",
            "4/4 [==============================] - 0s 14ms/step - loss: 0.5332 - accuracy: 0.7685 - val_loss: 0.5259 - val_accuracy: 0.7744\n",
            "Epoch 110/300\n",
            "4/4 [==============================] - 0s 16ms/step - loss: 0.5330 - accuracy: 0.7690 - val_loss: 0.5250 - val_accuracy: 0.7744\n",
            "Epoch 111/300\n",
            "4/4 [==============================] - 0s 12ms/step - loss: 0.5318 - accuracy: 0.7680 - val_loss: 0.5245 - val_accuracy: 0.7699\n",
            "Epoch 112/300\n",
            "4/4 [==============================] - 0s 12ms/step - loss: 0.5340 - accuracy: 0.7630 - val_loss: 0.5232 - val_accuracy: 0.7834\n",
            "Epoch 113/300\n",
            "4/4 [==============================] - 0s 13ms/step - loss: 0.5299 - accuracy: 0.7680 - val_loss: 0.5220 - val_accuracy: 0.7801\n",
            "Epoch 114/300\n",
            "4/4 [==============================] - 0s 12ms/step - loss: 0.5303 - accuracy: 0.7670 - val_loss: 0.5216 - val_accuracy: 0.7846\n",
            "Epoch 115/300\n",
            "4/4 [==============================] - 0s 14ms/step - loss: 0.5297 - accuracy: 0.7750 - val_loss: 0.5204 - val_accuracy: 0.7835\n",
            "Epoch 116/300\n",
            "4/4 [==============================] - 0s 13ms/step - loss: 0.5273 - accuracy: 0.7725 - val_loss: 0.5194 - val_accuracy: 0.7836\n",
            "Epoch 117/300\n",
            "4/4 [==============================] - 0s 12ms/step - loss: 0.5267 - accuracy: 0.7765 - val_loss: 0.5185 - val_accuracy: 0.7837\n",
            "Epoch 118/300\n",
            "4/4 [==============================] - 0s 12ms/step - loss: 0.5263 - accuracy: 0.7715 - val_loss: 0.5176 - val_accuracy: 0.7850\n",
            "Epoch 119/300\n",
            "4/4 [==============================] - 0s 13ms/step - loss: 0.5250 - accuracy: 0.7760 - val_loss: 0.5166 - val_accuracy: 0.7831\n",
            "Epoch 120/300\n",
            "4/4 [==============================] - 0s 12ms/step - loss: 0.5241 - accuracy: 0.7750 - val_loss: 0.5160 - val_accuracy: 0.7904\n",
            "Epoch 121/300\n",
            "4/4 [==============================] - 0s 12ms/step - loss: 0.5232 - accuracy: 0.7780 - val_loss: 0.5175 - val_accuracy: 0.7928\n",
            "Epoch 122/300\n",
            "4/4 [==============================] - 0s 12ms/step - loss: 0.5231 - accuracy: 0.7835 - val_loss: 0.5148 - val_accuracy: 0.7920\n",
            "Epoch 123/300\n",
            "4/4 [==============================] - 0s 12ms/step - loss: 0.5216 - accuracy: 0.7795 - val_loss: 0.5147 - val_accuracy: 0.7935\n",
            "Epoch 124/300\n",
            "4/4 [==============================] - 0s 12ms/step - loss: 0.5216 - accuracy: 0.7820 - val_loss: 0.5122 - val_accuracy: 0.7929\n",
            "Epoch 125/300\n",
            "4/4 [==============================] - 0s 12ms/step - loss: 0.5195 - accuracy: 0.7785 - val_loss: 0.5123 - val_accuracy: 0.7940\n",
            "Epoch 126/300\n",
            "4/4 [==============================] - 0s 13ms/step - loss: 0.5190 - accuracy: 0.7795 - val_loss: 0.5115 - val_accuracy: 0.7949\n",
            "Epoch 127/300\n",
            "4/4 [==============================] - 0s 12ms/step - loss: 0.5187 - accuracy: 0.7870 - val_loss: 0.5092 - val_accuracy: 0.7910\n",
            "Epoch 128/300\n",
            "4/4 [==============================] - 0s 13ms/step - loss: 0.5168 - accuracy: 0.7795 - val_loss: 0.5085 - val_accuracy: 0.7949\n",
            "Epoch 129/300\n",
            "4/4 [==============================] - 0s 12ms/step - loss: 0.5157 - accuracy: 0.7840 - val_loss: 0.5081 - val_accuracy: 0.7980\n",
            "Epoch 130/300\n",
            "4/4 [==============================] - 0s 12ms/step - loss: 0.5147 - accuracy: 0.7885 - val_loss: 0.5065 - val_accuracy: 0.7956\n",
            "Epoch 131/300\n",
            "4/4 [==============================] - 0s 13ms/step - loss: 0.5139 - accuracy: 0.7890 - val_loss: 0.5054 - val_accuracy: 0.7926\n",
            "Epoch 132/300\n",
            "4/4 [==============================] - 0s 12ms/step - loss: 0.5130 - accuracy: 0.7905 - val_loss: 0.5053 - val_accuracy: 0.7889\n",
            "Epoch 133/300\n",
            "4/4 [==============================] - 0s 12ms/step - loss: 0.5124 - accuracy: 0.7840 - val_loss: 0.5048 - val_accuracy: 0.8000\n",
            "Epoch 134/300\n",
            "4/4 [==============================] - 0s 12ms/step - loss: 0.5118 - accuracy: 0.7960 - val_loss: 0.5027 - val_accuracy: 0.7945\n",
            "Epoch 135/300\n",
            "4/4 [==============================] - 0s 13ms/step - loss: 0.5118 - accuracy: 0.7815 - val_loss: 0.5017 - val_accuracy: 0.8000\n",
            "Epoch 136/300\n",
            "4/4 [==============================] - 0s 13ms/step - loss: 0.5090 - accuracy: 0.7905 - val_loss: 0.5010 - val_accuracy: 0.8008\n",
            "Epoch 137/300\n",
            "4/4 [==============================] - 0s 12ms/step - loss: 0.5087 - accuracy: 0.7880 - val_loss: 0.5003 - val_accuracy: 0.8020\n",
            "Epoch 138/300\n",
            "4/4 [==============================] - 0s 14ms/step - loss: 0.5090 - accuracy: 0.7915 - val_loss: 0.4992 - val_accuracy: 0.8021\n",
            "Epoch 139/300\n",
            "4/4 [==============================] - 0s 14ms/step - loss: 0.5069 - accuracy: 0.7940 - val_loss: 0.4981 - val_accuracy: 0.8024\n",
            "Epoch 140/300\n",
            "4/4 [==============================] - 0s 12ms/step - loss: 0.5064 - accuracy: 0.7875 - val_loss: 0.4979 - val_accuracy: 0.8039\n",
            "Epoch 141/300\n",
            "4/4 [==============================] - 0s 12ms/step - loss: 0.5064 - accuracy: 0.7930 - val_loss: 0.4967 - val_accuracy: 0.8043\n",
            "Epoch 142/300\n",
            "4/4 [==============================] - 0s 12ms/step - loss: 0.5039 - accuracy: 0.7960 - val_loss: 0.4954 - val_accuracy: 0.8043\n",
            "Epoch 143/300\n",
            "4/4 [==============================] - 0s 12ms/step - loss: 0.5031 - accuracy: 0.7875 - val_loss: 0.4969 - val_accuracy: 0.8081\n",
            "Epoch 144/300\n",
            "4/4 [==============================] - 0s 13ms/step - loss: 0.5030 - accuracy: 0.7995 - val_loss: 0.4940 - val_accuracy: 0.8070\n",
            "Epoch 145/300\n",
            "4/4 [==============================] - 0s 13ms/step - loss: 0.5014 - accuracy: 0.7980 - val_loss: 0.4927 - val_accuracy: 0.8059\n",
            "Epoch 146/300\n",
            "4/4 [==============================] - 0s 12ms/step - loss: 0.5006 - accuracy: 0.7930 - val_loss: 0.4918 - val_accuracy: 0.8070\n",
            "Epoch 147/300\n",
            "4/4 [==============================] - 0s 13ms/step - loss: 0.5003 - accuracy: 0.7995 - val_loss: 0.4912 - val_accuracy: 0.8027\n",
            "Epoch 148/300\n",
            "4/4 [==============================] - 0s 12ms/step - loss: 0.5003 - accuracy: 0.7965 - val_loss: 0.4904 - val_accuracy: 0.8033\n",
            "Epoch 149/300\n",
            "4/4 [==============================] - 0s 12ms/step - loss: 0.4984 - accuracy: 0.7940 - val_loss: 0.4892 - val_accuracy: 0.8090\n",
            "Epoch 150/300\n",
            "4/4 [==============================] - 0s 11ms/step - loss: 0.4986 - accuracy: 0.7980 - val_loss: 0.4885 - val_accuracy: 0.8109\n",
            "Epoch 151/300\n",
            "4/4 [==============================] - 0s 12ms/step - loss: 0.4970 - accuracy: 0.7980 - val_loss: 0.4875 - val_accuracy: 0.8105\n",
            "Epoch 152/300\n",
            "4/4 [==============================] - 0s 13ms/step - loss: 0.4967 - accuracy: 0.8015 - val_loss: 0.4872 - val_accuracy: 0.8051\n",
            "Epoch 153/300\n",
            "4/4 [==============================] - 0s 12ms/step - loss: 0.4959 - accuracy: 0.7935 - val_loss: 0.4860 - val_accuracy: 0.8092\n",
            "Epoch 154/300\n",
            "4/4 [==============================] - 0s 11ms/step - loss: 0.4951 - accuracy: 0.7970 - val_loss: 0.4859 - val_accuracy: 0.8117\n",
            "Epoch 155/300\n",
            "4/4 [==============================] - 0s 13ms/step - loss: 0.4938 - accuracy: 0.8020 - val_loss: 0.4850 - val_accuracy: 0.8136\n",
            "Epoch 156/300\n",
            "4/4 [==============================] - 0s 14ms/step - loss: 0.4933 - accuracy: 0.8015 - val_loss: 0.4835 - val_accuracy: 0.8121\n",
            "Epoch 157/300\n",
            "4/4 [==============================] - 0s 12ms/step - loss: 0.4924 - accuracy: 0.7935 - val_loss: 0.4863 - val_accuracy: 0.8131\n",
            "Epoch 158/300\n",
            "4/4 [==============================] - 0s 11ms/step - loss: 0.4919 - accuracy: 0.8075 - val_loss: 0.4820 - val_accuracy: 0.8136\n",
            "Epoch 159/300\n",
            "4/4 [==============================] - 0s 12ms/step - loss: 0.4910 - accuracy: 0.7990 - val_loss: 0.4813 - val_accuracy: 0.8170\n",
            "Epoch 160/300\n",
            "4/4 [==============================] - 0s 12ms/step - loss: 0.4900 - accuracy: 0.8020 - val_loss: 0.4806 - val_accuracy: 0.8184\n",
            "Epoch 161/300\n",
            "4/4 [==============================] - 0s 12ms/step - loss: 0.4890 - accuracy: 0.8040 - val_loss: 0.4796 - val_accuracy: 0.8121\n",
            "Epoch 162/300\n",
            "4/4 [==============================] - 0s 12ms/step - loss: 0.4875 - accuracy: 0.7985 - val_loss: 0.4829 - val_accuracy: 0.8141\n",
            "Epoch 163/300\n",
            "4/4 [==============================] - 0s 12ms/step - loss: 0.4886 - accuracy: 0.8020 - val_loss: 0.4782 - val_accuracy: 0.8181\n",
            "Epoch 164/300\n",
            "4/4 [==============================] - 0s 13ms/step - loss: 0.4866 - accuracy: 0.8080 - val_loss: 0.4778 - val_accuracy: 0.8195\n",
            "Epoch 165/300\n",
            "4/4 [==============================] - 0s 11ms/step - loss: 0.4862 - accuracy: 0.8075 - val_loss: 0.4763 - val_accuracy: 0.8151\n",
            "Epoch 166/300\n",
            "4/4 [==============================] - 0s 13ms/step - loss: 0.4856 - accuracy: 0.8040 - val_loss: 0.4755 - val_accuracy: 0.8152\n",
            "Epoch 167/300\n",
            "4/4 [==============================] - 0s 12ms/step - loss: 0.4849 - accuracy: 0.8080 - val_loss: 0.4747 - val_accuracy: 0.8206\n",
            "Epoch 168/300\n",
            "4/4 [==============================] - 0s 12ms/step - loss: 0.4850 - accuracy: 0.8030 - val_loss: 0.4742 - val_accuracy: 0.8210\n",
            "Epoch 169/300\n",
            "4/4 [==============================] - 0s 13ms/step - loss: 0.4831 - accuracy: 0.8065 - val_loss: 0.4732 - val_accuracy: 0.8215\n",
            "Epoch 170/300\n",
            "4/4 [==============================] - 0s 12ms/step - loss: 0.4822 - accuracy: 0.8050 - val_loss: 0.4726 - val_accuracy: 0.8213\n",
            "Epoch 171/300\n",
            "4/4 [==============================] - 0s 13ms/step - loss: 0.4830 - accuracy: 0.8040 - val_loss: 0.4724 - val_accuracy: 0.8225\n",
            "Epoch 172/300\n",
            "4/4 [==============================] - 0s 12ms/step - loss: 0.4821 - accuracy: 0.8140 - val_loss: 0.4711 - val_accuracy: 0.8221\n",
            "Epoch 173/300\n",
            "4/4 [==============================] - 0s 12ms/step - loss: 0.4804 - accuracy: 0.8070 - val_loss: 0.4709 - val_accuracy: 0.8165\n",
            "Epoch 174/300\n",
            "4/4 [==============================] - 0s 12ms/step - loss: 0.4806 - accuracy: 0.8060 - val_loss: 0.4697 - val_accuracy: 0.8214\n",
            "Epoch 175/300\n",
            "4/4 [==============================] - 0s 14ms/step - loss: 0.4791 - accuracy: 0.8085 - val_loss: 0.4690 - val_accuracy: 0.8224\n",
            "Epoch 176/300\n",
            "4/4 [==============================] - 0s 12ms/step - loss: 0.4780 - accuracy: 0.8085 - val_loss: 0.4685 - val_accuracy: 0.8239\n",
            "Epoch 177/300\n",
            "4/4 [==============================] - 0s 12ms/step - loss: 0.4788 - accuracy: 0.8095 - val_loss: 0.4677 - val_accuracy: 0.8234\n",
            "Epoch 178/300\n",
            "4/4 [==============================] - 0s 12ms/step - loss: 0.4770 - accuracy: 0.8095 - val_loss: 0.4672 - val_accuracy: 0.8246\n",
            "Epoch 179/300\n",
            "4/4 [==============================] - 0s 13ms/step - loss: 0.4775 - accuracy: 0.8115 - val_loss: 0.4667 - val_accuracy: 0.8253\n",
            "Epoch 180/300\n",
            "4/4 [==============================] - 0s 12ms/step - loss: 0.4766 - accuracy: 0.8095 - val_loss: 0.4659 - val_accuracy: 0.8253\n",
            "Epoch 181/300\n",
            "4/4 [==============================] - 0s 12ms/step - loss: 0.4746 - accuracy: 0.8125 - val_loss: 0.4650 - val_accuracy: 0.8227\n",
            "Epoch 182/300\n",
            "4/4 [==============================] - 0s 14ms/step - loss: 0.4739 - accuracy: 0.8115 - val_loss: 0.4643 - val_accuracy: 0.8255\n",
            "Epoch 183/300\n",
            "4/4 [==============================] - 0s 12ms/step - loss: 0.4738 - accuracy: 0.8115 - val_loss: 0.4637 - val_accuracy: 0.8270\n",
            "Epoch 184/300\n",
            "4/4 [==============================] - 0s 12ms/step - loss: 0.4726 - accuracy: 0.8135 - val_loss: 0.4628 - val_accuracy: 0.8253\n",
            "Epoch 185/300\n",
            "4/4 [==============================] - 0s 13ms/step - loss: 0.4733 - accuracy: 0.8105 - val_loss: 0.4627 - val_accuracy: 0.8284\n",
            "Epoch 186/300\n",
            "4/4 [==============================] - 0s 12ms/step - loss: 0.4718 - accuracy: 0.8150 - val_loss: 0.4616 - val_accuracy: 0.8273\n",
            "Epoch 187/300\n",
            "4/4 [==============================] - 0s 12ms/step - loss: 0.4710 - accuracy: 0.8145 - val_loss: 0.4609 - val_accuracy: 0.8280\n",
            "Epoch 188/300\n",
            "4/4 [==============================] - 0s 12ms/step - loss: 0.4704 - accuracy: 0.8175 - val_loss: 0.4599 - val_accuracy: 0.8267\n",
            "Epoch 189/300\n",
            "4/4 [==============================] - 0s 11ms/step - loss: 0.4693 - accuracy: 0.8135 - val_loss: 0.4606 - val_accuracy: 0.8265\n",
            "Epoch 190/300\n",
            "4/4 [==============================] - 0s 11ms/step - loss: 0.4688 - accuracy: 0.8120 - val_loss: 0.4586 - val_accuracy: 0.8281\n",
            "Epoch 191/300\n",
            "4/4 [==============================] - 0s 13ms/step - loss: 0.4685 - accuracy: 0.8140 - val_loss: 0.4584 - val_accuracy: 0.8298\n",
            "Epoch 192/300\n",
            "4/4 [==============================] - 0s 13ms/step - loss: 0.4688 - accuracy: 0.8145 - val_loss: 0.4571 - val_accuracy: 0.8280\n",
            "Epoch 193/300\n",
            "4/4 [==============================] - 0s 12ms/step - loss: 0.4673 - accuracy: 0.8150 - val_loss: 0.4567 - val_accuracy: 0.8295\n",
            "Epoch 194/300\n",
            "4/4 [==============================] - 0s 13ms/step - loss: 0.4665 - accuracy: 0.8145 - val_loss: 0.4557 - val_accuracy: 0.8280\n",
            "Epoch 195/300\n",
            "4/4 [==============================] - 0s 12ms/step - loss: 0.4658 - accuracy: 0.8160 - val_loss: 0.4550 - val_accuracy: 0.8286\n",
            "Epoch 196/300\n",
            "4/4 [==============================] - 0s 11ms/step - loss: 0.4645 - accuracy: 0.8170 - val_loss: 0.4543 - val_accuracy: 0.8294\n",
            "Epoch 197/300\n",
            "4/4 [==============================] - 0s 12ms/step - loss: 0.4664 - accuracy: 0.8130 - val_loss: 0.4538 - val_accuracy: 0.8294\n",
            "Epoch 198/300\n",
            "4/4 [==============================] - 0s 11ms/step - loss: 0.4637 - accuracy: 0.8195 - val_loss: 0.4530 - val_accuracy: 0.8298\n",
            "Epoch 199/300\n",
            "4/4 [==============================] - 0s 12ms/step - loss: 0.4638 - accuracy: 0.8140 - val_loss: 0.4538 - val_accuracy: 0.8300\n",
            "Epoch 200/300\n",
            "4/4 [==============================] - 0s 11ms/step - loss: 0.4646 - accuracy: 0.8205 - val_loss: 0.4519 - val_accuracy: 0.8307\n",
            "Epoch 201/300\n",
            "4/4 [==============================] - 0s 13ms/step - loss: 0.4620 - accuracy: 0.8185 - val_loss: 0.4515 - val_accuracy: 0.8307\n",
            "Epoch 202/300\n",
            "4/4 [==============================] - 0s 12ms/step - loss: 0.4620 - accuracy: 0.8195 - val_loss: 0.4507 - val_accuracy: 0.8307\n",
            "Epoch 203/300\n",
            "4/4 [==============================] - 0s 15ms/step - loss: 0.4608 - accuracy: 0.8185 - val_loss: 0.4506 - val_accuracy: 0.8281\n",
            "Epoch 204/300\n",
            "4/4 [==============================] - 0s 13ms/step - loss: 0.4601 - accuracy: 0.8165 - val_loss: 0.4499 - val_accuracy: 0.8313\n",
            "Epoch 205/300\n",
            "4/4 [==============================] - 0s 12ms/step - loss: 0.4599 - accuracy: 0.8190 - val_loss: 0.4491 - val_accuracy: 0.8316\n",
            "Epoch 206/300\n",
            "4/4 [==============================] - 0s 13ms/step - loss: 0.4594 - accuracy: 0.8170 - val_loss: 0.4485 - val_accuracy: 0.8317\n",
            "Epoch 207/300\n",
            "4/4 [==============================] - 0s 13ms/step - loss: 0.4579 - accuracy: 0.8185 - val_loss: 0.4478 - val_accuracy: 0.8322\n",
            "Epoch 208/300\n",
            "4/4 [==============================] - 0s 14ms/step - loss: 0.4581 - accuracy: 0.8215 - val_loss: 0.4487 - val_accuracy: 0.8217\n",
            "Epoch 209/300\n",
            "4/4 [==============================] - 0s 13ms/step - loss: 0.4575 - accuracy: 0.8210 - val_loss: 0.4462 - val_accuracy: 0.8340\n",
            "Epoch 210/300\n",
            "4/4 [==============================] - 0s 13ms/step - loss: 0.4563 - accuracy: 0.8220 - val_loss: 0.4459 - val_accuracy: 0.8329\n",
            "Epoch 211/300\n",
            "4/4 [==============================] - 0s 14ms/step - loss: 0.4563 - accuracy: 0.8230 - val_loss: 0.4450 - val_accuracy: 0.8334\n",
            "Epoch 212/300\n",
            "4/4 [==============================] - 0s 13ms/step - loss: 0.4572 - accuracy: 0.8195 - val_loss: 0.4444 - val_accuracy: 0.8329\n",
            "Epoch 213/300\n",
            "4/4 [==============================] - 0s 15ms/step - loss: 0.4547 - accuracy: 0.8235 - val_loss: 0.4439 - val_accuracy: 0.8344\n",
            "Epoch 214/300\n",
            "4/4 [==============================] - 0s 13ms/step - loss: 0.4536 - accuracy: 0.8225 - val_loss: 0.4435 - val_accuracy: 0.8309\n",
            "Epoch 215/300\n",
            "4/4 [==============================] - 0s 13ms/step - loss: 0.4542 - accuracy: 0.8210 - val_loss: 0.4426 - val_accuracy: 0.8347\n",
            "Epoch 216/300\n",
            "4/4 [==============================] - 0s 13ms/step - loss: 0.4530 - accuracy: 0.8240 - val_loss: 0.4422 - val_accuracy: 0.8344\n",
            "Epoch 217/300\n",
            "4/4 [==============================] - 0s 13ms/step - loss: 0.4525 - accuracy: 0.8225 - val_loss: 0.4414 - val_accuracy: 0.8345\n",
            "Epoch 218/300\n",
            "4/4 [==============================] - 0s 15ms/step - loss: 0.4516 - accuracy: 0.8215 - val_loss: 0.4410 - val_accuracy: 0.8341\n",
            "Epoch 219/300\n",
            "4/4 [==============================] - 0s 13ms/step - loss: 0.4518 - accuracy: 0.8215 - val_loss: 0.4409 - val_accuracy: 0.8341\n",
            "Epoch 220/300\n",
            "4/4 [==============================] - 0s 13ms/step - loss: 0.4506 - accuracy: 0.8265 - val_loss: 0.4395 - val_accuracy: 0.8344\n",
            "Epoch 221/300\n",
            "4/4 [==============================] - 0s 14ms/step - loss: 0.4510 - accuracy: 0.8225 - val_loss: 0.4393 - val_accuracy: 0.8332\n",
            "Epoch 222/300\n",
            "4/4 [==============================] - 0s 14ms/step - loss: 0.4501 - accuracy: 0.8225 - val_loss: 0.4383 - val_accuracy: 0.8354\n",
            "Epoch 223/300\n",
            "4/4 [==============================] - 0s 11ms/step - loss: 0.4493 - accuracy: 0.8260 - val_loss: 0.4380 - val_accuracy: 0.8336\n",
            "Epoch 224/300\n",
            "4/4 [==============================] - 0s 11ms/step - loss: 0.4484 - accuracy: 0.8250 - val_loss: 0.4371 - val_accuracy: 0.8359\n",
            "Epoch 225/300\n",
            "4/4 [==============================] - 0s 12ms/step - loss: 0.4494 - accuracy: 0.8260 - val_loss: 0.4366 - val_accuracy: 0.8357\n",
            "Epoch 226/300\n",
            "4/4 [==============================] - 0s 13ms/step - loss: 0.4477 - accuracy: 0.8240 - val_loss: 0.4364 - val_accuracy: 0.8341\n",
            "Epoch 227/300\n",
            "4/4 [==============================] - 0s 13ms/step - loss: 0.4469 - accuracy: 0.8250 - val_loss: 0.4355 - val_accuracy: 0.8357\n",
            "Epoch 228/300\n",
            "4/4 [==============================] - 0s 12ms/step - loss: 0.4464 - accuracy: 0.8265 - val_loss: 0.4349 - val_accuracy: 0.8353\n",
            "Epoch 229/300\n",
            "4/4 [==============================] - 0s 12ms/step - loss: 0.4456 - accuracy: 0.8260 - val_loss: 0.4344 - val_accuracy: 0.8342\n",
            "Epoch 230/300\n",
            "4/4 [==============================] - 0s 12ms/step - loss: 0.4464 - accuracy: 0.8230 - val_loss: 0.4345 - val_accuracy: 0.8357\n",
            "Epoch 231/300\n",
            "4/4 [==============================] - 0s 14ms/step - loss: 0.4453 - accuracy: 0.8260 - val_loss: 0.4331 - val_accuracy: 0.8356\n",
            "Epoch 232/300\n",
            "4/4 [==============================] - 0s 12ms/step - loss: 0.4463 - accuracy: 0.8210 - val_loss: 0.4330 - val_accuracy: 0.8359\n",
            "Epoch 233/300\n",
            "4/4 [==============================] - 0s 12ms/step - loss: 0.4444 - accuracy: 0.8290 - val_loss: 0.4323 - val_accuracy: 0.8355\n",
            "Epoch 234/300\n",
            "4/4 [==============================] - 0s 12ms/step - loss: 0.4435 - accuracy: 0.8250 - val_loss: 0.4323 - val_accuracy: 0.8367\n",
            "Epoch 235/300\n",
            "4/4 [==============================] - 0s 12ms/step - loss: 0.4435 - accuracy: 0.8265 - val_loss: 0.4313 - val_accuracy: 0.8360\n",
            "Epoch 236/300\n",
            "4/4 [==============================] - 0s 13ms/step - loss: 0.4421 - accuracy: 0.8275 - val_loss: 0.4306 - val_accuracy: 0.8363\n",
            "Epoch 237/300\n",
            "4/4 [==============================] - 0s 13ms/step - loss: 0.4423 - accuracy: 0.8255 - val_loss: 0.4305 - val_accuracy: 0.8360\n",
            "Epoch 238/300\n",
            "4/4 [==============================] - 0s 12ms/step - loss: 0.4416 - accuracy: 0.8290 - val_loss: 0.4298 - val_accuracy: 0.8363\n",
            "Epoch 239/300\n",
            "4/4 [==============================] - 0s 13ms/step - loss: 0.4416 - accuracy: 0.8275 - val_loss: 0.4290 - val_accuracy: 0.8354\n",
            "Epoch 240/300\n",
            "4/4 [==============================] - 0s 12ms/step - loss: 0.4425 - accuracy: 0.8215 - val_loss: 0.4285 - val_accuracy: 0.8365\n",
            "Epoch 241/300\n",
            "4/4 [==============================] - 0s 13ms/step - loss: 0.4402 - accuracy: 0.8270 - val_loss: 0.4291 - val_accuracy: 0.8382\n",
            "Epoch 242/300\n",
            "4/4 [==============================] - 0s 12ms/step - loss: 0.4394 - accuracy: 0.8310 - val_loss: 0.4276 - val_accuracy: 0.8365\n",
            "Epoch 243/300\n",
            "4/4 [==============================] - 0s 12ms/step - loss: 0.4393 - accuracy: 0.8315 - val_loss: 0.4271 - val_accuracy: 0.8367\n",
            "Epoch 244/300\n",
            "4/4 [==============================] - 0s 12ms/step - loss: 0.4386 - accuracy: 0.8310 - val_loss: 0.4270 - val_accuracy: 0.8375\n",
            "Epoch 245/300\n",
            "4/4 [==============================] - 0s 11ms/step - loss: 0.4388 - accuracy: 0.8275 - val_loss: 0.4260 - val_accuracy: 0.8370\n",
            "Epoch 246/300\n",
            "4/4 [==============================] - 0s 13ms/step - loss: 0.4385 - accuracy: 0.8285 - val_loss: 0.4256 - val_accuracy: 0.8369\n",
            "Epoch 247/300\n",
            "4/4 [==============================] - 0s 13ms/step - loss: 0.4376 - accuracy: 0.8270 - val_loss: 0.4253 - val_accuracy: 0.8366\n",
            "Epoch 248/300\n",
            "4/4 [==============================] - 0s 13ms/step - loss: 0.4363 - accuracy: 0.8300 - val_loss: 0.4250 - val_accuracy: 0.8374\n",
            "Epoch 249/300\n",
            "4/4 [==============================] - 0s 12ms/step - loss: 0.4365 - accuracy: 0.8315 - val_loss: 0.4247 - val_accuracy: 0.8374\n",
            "Epoch 250/300\n",
            "4/4 [==============================] - 0s 15ms/step - loss: 0.4360 - accuracy: 0.8265 - val_loss: 0.4238 - val_accuracy: 0.8379\n",
            "Epoch 251/300\n",
            "4/4 [==============================] - 0s 13ms/step - loss: 0.4354 - accuracy: 0.8325 - val_loss: 0.4232 - val_accuracy: 0.8371\n",
            "Epoch 252/300\n",
            "4/4 [==============================] - 0s 13ms/step - loss: 0.4353 - accuracy: 0.8280 - val_loss: 0.4229 - val_accuracy: 0.8374\n",
            "Epoch 253/300\n",
            "4/4 [==============================] - 0s 13ms/step - loss: 0.4345 - accuracy: 0.8320 - val_loss: 0.4223 - val_accuracy: 0.8384\n",
            "Epoch 254/300\n",
            "4/4 [==============================] - 0s 14ms/step - loss: 0.4336 - accuracy: 0.8290 - val_loss: 0.4224 - val_accuracy: 0.8378\n",
            "Epoch 255/300\n",
            "4/4 [==============================] - 0s 13ms/step - loss: 0.4338 - accuracy: 0.8300 - val_loss: 0.4218 - val_accuracy: 0.8379\n",
            "Epoch 256/300\n",
            "4/4 [==============================] - 0s 14ms/step - loss: 0.4336 - accuracy: 0.8315 - val_loss: 0.4215 - val_accuracy: 0.8396\n",
            "Epoch 257/300\n",
            "4/4 [==============================] - 0s 14ms/step - loss: 0.4340 - accuracy: 0.8285 - val_loss: 0.4210 - val_accuracy: 0.8396\n",
            "Epoch 258/300\n",
            "4/4 [==============================] - 0s 12ms/step - loss: 0.4328 - accuracy: 0.8315 - val_loss: 0.4198 - val_accuracy: 0.8379\n",
            "Epoch 259/300\n",
            "4/4 [==============================] - 0s 14ms/step - loss: 0.4312 - accuracy: 0.8290 - val_loss: 0.4203 - val_accuracy: 0.8400\n",
            "Epoch 260/300\n",
            "4/4 [==============================] - 0s 15ms/step - loss: 0.4310 - accuracy: 0.8330 - val_loss: 0.4195 - val_accuracy: 0.8382\n",
            "Epoch 261/300\n",
            "4/4 [==============================] - 0s 45ms/step - loss: 0.4313 - accuracy: 0.8250 - val_loss: 0.4210 - val_accuracy: 0.8414\n",
            "Epoch 262/300\n",
            "4/4 [==============================] - 0s 14ms/step - loss: 0.4316 - accuracy: 0.8315 - val_loss: 0.4181 - val_accuracy: 0.8384\n",
            "Epoch 263/300\n",
            "4/4 [==============================] - 0s 14ms/step - loss: 0.4302 - accuracy: 0.8300 - val_loss: 0.4177 - val_accuracy: 0.8391\n",
            "Epoch 264/300\n",
            "4/4 [==============================] - 0s 13ms/step - loss: 0.4288 - accuracy: 0.8325 - val_loss: 0.4176 - val_accuracy: 0.8388\n",
            "Epoch 265/300\n",
            "4/4 [==============================] - 0s 13ms/step - loss: 0.4309 - accuracy: 0.8320 - val_loss: 0.4172 - val_accuracy: 0.8390\n",
            "Epoch 266/300\n",
            "4/4 [==============================] - 0s 13ms/step - loss: 0.4291 - accuracy: 0.8305 - val_loss: 0.4169 - val_accuracy: 0.8390\n",
            "Epoch 267/300\n",
            "4/4 [==============================] - 0s 13ms/step - loss: 0.4288 - accuracy: 0.8300 - val_loss: 0.4160 - val_accuracy: 0.8397\n",
            "Epoch 268/300\n",
            "4/4 [==============================] - 0s 13ms/step - loss: 0.4288 - accuracy: 0.8290 - val_loss: 0.4156 - val_accuracy: 0.8388\n",
            "Epoch 269/300\n",
            "4/4 [==============================] - 0s 16ms/step - loss: 0.4291 - accuracy: 0.8315 - val_loss: 0.4161 - val_accuracy: 0.8419\n",
            "Epoch 270/300\n",
            "4/4 [==============================] - 0s 14ms/step - loss: 0.4273 - accuracy: 0.8335 - val_loss: 0.4151 - val_accuracy: 0.8406\n",
            "Epoch 271/300\n",
            "4/4 [==============================] - 0s 14ms/step - loss: 0.4273 - accuracy: 0.8325 - val_loss: 0.4144 - val_accuracy: 0.8391\n",
            "Epoch 272/300\n",
            "4/4 [==============================] - 0s 13ms/step - loss: 0.4265 - accuracy: 0.8320 - val_loss: 0.4140 - val_accuracy: 0.8406\n",
            "Epoch 273/300\n",
            "4/4 [==============================] - 0s 13ms/step - loss: 0.4265 - accuracy: 0.8315 - val_loss: 0.4137 - val_accuracy: 0.8405\n",
            "Epoch 274/300\n",
            "4/4 [==============================] - 0s 12ms/step - loss: 0.4260 - accuracy: 0.8325 - val_loss: 0.4141 - val_accuracy: 0.8422\n",
            "Epoch 275/300\n",
            "4/4 [==============================] - 0s 13ms/step - loss: 0.4260 - accuracy: 0.8310 - val_loss: 0.4127 - val_accuracy: 0.8399\n",
            "Epoch 276/300\n",
            "4/4 [==============================] - 0s 12ms/step - loss: 0.4244 - accuracy: 0.8340 - val_loss: 0.4122 - val_accuracy: 0.8389\n",
            "Epoch 277/300\n",
            "4/4 [==============================] - 0s 12ms/step - loss: 0.4249 - accuracy: 0.8335 - val_loss: 0.4117 - val_accuracy: 0.8405\n",
            "Epoch 278/300\n",
            "4/4 [==============================] - 0s 13ms/step - loss: 0.4240 - accuracy: 0.8320 - val_loss: 0.4113 - val_accuracy: 0.8395\n",
            "Epoch 279/300\n",
            "4/4 [==============================] - 0s 14ms/step - loss: 0.4244 - accuracy: 0.8265 - val_loss: 0.4109 - val_accuracy: 0.8411\n",
            "Epoch 280/300\n",
            "4/4 [==============================] - 0s 13ms/step - loss: 0.4241 - accuracy: 0.8290 - val_loss: 0.4104 - val_accuracy: 0.8394\n",
            "Epoch 281/300\n",
            "4/4 [==============================] - 0s 12ms/step - loss: 0.4231 - accuracy: 0.8335 - val_loss: 0.4100 - val_accuracy: 0.8401\n",
            "Epoch 282/300\n",
            "4/4 [==============================] - 0s 12ms/step - loss: 0.4228 - accuracy: 0.8310 - val_loss: 0.4097 - val_accuracy: 0.8413\n",
            "Epoch 283/300\n",
            "4/4 [==============================] - 0s 12ms/step - loss: 0.4227 - accuracy: 0.8295 - val_loss: 0.4094 - val_accuracy: 0.8405\n",
            "Epoch 284/300\n",
            "4/4 [==============================] - 0s 12ms/step - loss: 0.4216 - accuracy: 0.8310 - val_loss: 0.4088 - val_accuracy: 0.8401\n",
            "Epoch 285/300\n",
            "4/4 [==============================] - 0s 12ms/step - loss: 0.4223 - accuracy: 0.8300 - val_loss: 0.4085 - val_accuracy: 0.8410\n",
            "Epoch 286/300\n",
            "4/4 [==============================] - 0s 12ms/step - loss: 0.4219 - accuracy: 0.8280 - val_loss: 0.4082 - val_accuracy: 0.8406\n",
            "Epoch 287/300\n",
            "4/4 [==============================] - 0s 15ms/step - loss: 0.4207 - accuracy: 0.8305 - val_loss: 0.4077 - val_accuracy: 0.8414\n",
            "Epoch 288/300\n",
            "4/4 [==============================] - 0s 12ms/step - loss: 0.4198 - accuracy: 0.8330 - val_loss: 0.4075 - val_accuracy: 0.8418\n",
            "Epoch 289/300\n",
            "4/4 [==============================] - 0s 13ms/step - loss: 0.4202 - accuracy: 0.8310 - val_loss: 0.4068 - val_accuracy: 0.8409\n",
            "Epoch 290/300\n",
            "4/4 [==============================] - 0s 13ms/step - loss: 0.4197 - accuracy: 0.8290 - val_loss: 0.4081 - val_accuracy: 0.8396\n",
            "Epoch 291/300\n",
            "4/4 [==============================] - 0s 13ms/step - loss: 0.4199 - accuracy: 0.8275 - val_loss: 0.4073 - val_accuracy: 0.8428\n",
            "Epoch 292/300\n",
            "4/4 [==============================] - 0s 12ms/step - loss: 0.4203 - accuracy: 0.8275 - val_loss: 0.4078 - val_accuracy: 0.8444\n",
            "Epoch 293/300\n",
            "4/4 [==============================] - 0s 12ms/step - loss: 0.4194 - accuracy: 0.8290 - val_loss: 0.4060 - val_accuracy: 0.8439\n",
            "Epoch 294/300\n",
            "4/4 [==============================] - 0s 15ms/step - loss: 0.4193 - accuracy: 0.8305 - val_loss: 0.4050 - val_accuracy: 0.8413\n",
            "Epoch 295/300\n",
            "4/4 [==============================] - 0s 13ms/step - loss: 0.4191 - accuracy: 0.8290 - val_loss: 0.4047 - val_accuracy: 0.8415\n",
            "Epoch 296/300\n",
            "4/4 [==============================] - 0s 14ms/step - loss: 0.4178 - accuracy: 0.8345 - val_loss: 0.4045 - val_accuracy: 0.8419\n",
            "Epoch 297/300\n",
            "4/4 [==============================] - 0s 12ms/step - loss: 0.4174 - accuracy: 0.8295 - val_loss: 0.4043 - val_accuracy: 0.8421\n",
            "Epoch 298/300\n",
            "4/4 [==============================] - 0s 11ms/step - loss: 0.4173 - accuracy: 0.8305 - val_loss: 0.4036 - val_accuracy: 0.8415\n",
            "Epoch 299/300\n",
            "4/4 [==============================] - 0s 11ms/step - loss: 0.4172 - accuracy: 0.8320 - val_loss: 0.4034 - val_accuracy: 0.8424\n",
            "Epoch 300/300\n",
            "4/4 [==============================] - 0s 11ms/step - loss: 0.4158 - accuracy: 0.8315 - val_loss: 0.4039 - val_accuracy: 0.8422\n"
          ],
          "name": "stdout"
        }
      ]
    },
    {
      "cell_type": "markdown",
      "metadata": {
        "id": "Vc0OltkGbjry",
        "colab_type": "text"
      },
      "source": [
        "graphing the model"
      ]
    },
    {
      "cell_type": "code",
      "metadata": {
        "id": "ekBO0_w3VpXX",
        "colab_type": "code",
        "outputId": "8650fe7c-ddf4-429f-dd41-5bc0c0ed28db",
        "colab": {
          "base_uri": "https://localhost:8080/",
          "height": 320
        }
      },
      "source": [
        "import pandas as pd\n",
        "import matplotlib.pyplot as plt\n",
        "from matplotlib.ticker import (AutoMinorLocator, MultipleLocator)\n",
        "\n",
        "pd.DataFrame(history.history).plot(figsize=(10, 5))\n",
        "plt.grid(True)\n",
        "\n",
        "plt.gca().set_ylim(0, 1.1) \n",
        "plt.gca().set_xlim(0, 300)\n",
        "\n",
        "plt.gca().xaxis.set_major_locator(MultipleLocator(2))\n",
        "\n",
        "plt.gca().xaxis.set_major_formatter(plt.FuncFormatter(lambda x, _ : int(x + 1)))\n",
        "\n",
        "plt.gca().xaxis.set_minor_locator(AutoMinorLocator(2))\n",
        "plt.gca().grid(which='minor', color='#CCCCCC', linestyle='--')\n",
        "\n",
        "plt.show()"
      ],
      "execution_count": 10,
      "outputs": [
        {
          "output_type": "display_data",
          "data": {
            "image/png": "[encoded data removed]",
            "text/plain": [
              "<Figure size 720x360 with 1 Axes>"
            ]
          },
          "metadata": {
            "tags": [],
            "needs_background": "light"
          }
        }
      ]
    },
    {
      "cell_type": "markdown",
      "metadata": {
        "id": "4Bmd1hlYbu-L",
        "colab_type": "text"
      },
      "source": [
        "comparing the true line of seperation to the line of seperation generated by the model.\n",
        "\n",
        "The white line is the true line, the black line is the one generated by the model."
      ]
    },
    {
      "cell_type": "markdown",
      "metadata": {
        "id": "o_zEhtFicNcd",
        "colab_type": "text"
      },
      "source": [
        "##how to derive the line of seperation\n",
        "the equation of a line with two weights like our model is:\n",
        "\n",
        "> w1(x) + w2(y) + b = 0\n",
        "\n",
        "the equations for the x-intercepts and y-intercepts are:\n",
        "\n",
        "\n",
        "> y-intercept = (0, -b / w2)\n",
        "> x-intercept = (-b / w1, 0)\n",
        "\n",
        "find the slope from these points\n",
        "\n",
        "\n",
        "> m = (-b/w2) / (b/w1)\n",
        "\n",
        "combine these to get slope-intercept form which is the final answer for the slope of the line of seperation\n",
        "\n",
        "\n",
        "> y = (-(b / w2) / (b / w1))x + (-b / w2)\n",
        "\n",
        "\n",
        "\n",
        "\n",
        "\n"
      ]
    },
    {
      "cell_type": "code",
      "metadata": {
        "id": "1Eme1C_2XHH7",
        "colab_type": "code",
        "outputId": "dc62ab9d-8b19-4a98-9fc5-c126bf9252ac",
        "colab": {
          "base_uri": "https://localhost:8080/",
          "height": 265
        }
      },
      "source": [
        "true_line_x = np.linspace(0, 1, 100)\n",
        "true_line_y = w * true_line_x + b\n",
        "\n",
        "weights = network.layers[0].get_weights()\n",
        "model_b = weights[1][0]\n",
        "w1 =  weights[0][0]\n",
        "w2 = weights[0][1]\n",
        "\n",
        "model_line_x = true_line_x\n",
        "model_line_y = ((-1 * model_b / w2) / (model_b / w1)) * model_line_x + (-1 * model_b / w2)\n",
        "\n",
        "plt.plot(true_line_x, true_line_y, color=\"white\")\n",
        "plt.plot(model_line_x, model_line_y, color=\"black\")\n",
        "display_random_data(data, labels)"
      ],
      "execution_count": 11,
      "outputs": [
        {
          "output_type": "display_data",
          "data": {
            "image/png": "[encoded data removed]",
            "text/plain": [
              "<Figure size 432x288 with 1 Axes>"
            ]
          },
          "metadata": {
            "tags": [],
            "needs_background": "light"
          }
        }
      ]
    },
    {
      "cell_type": "markdown",
      "metadata": {
        "id": "tJf_y2prgVaD",
        "colab_type": "text"
      },
      "source": [
        "heatmap of the models predictions"
      ]
    },
    {
      "cell_type": "code",
      "metadata": {
        "id": "0akLkslNvlKp",
        "colab_type": "code",
        "outputId": "eed510bd-625f-4b1d-92f4-d0a8e02d36df",
        "colab": {
          "base_uri": "https://localhost:8080/",
          "height": 269
        }
      },
      "source": [
        "x_cont = np.linspace(0, 1, 100)\n",
        "y_cont = np.linspace(0, 10, 100)\n",
        "X, Y = np.meshgrid(x_cont, y_cont)\n",
        "\n",
        "input_heat = np.column_stack((X.flatten(), Y.flatten()))\n",
        "Z = network.predict(input_heat)\n",
        "Z = Z.reshape(X.shape)\n",
        "\n",
        "plt.contourf(X, Y, Z, 50, cmap='RdGy')\n",
        "plt.colorbar();\n",
        "plt.show()"
      ],
      "execution_count": 12,
      "outputs": [
        {
          "output_type": "display_data",
          "data": {
            "image/png": "[encoded data removed]",
            "text/plain": [
              "<Figure size 432x288 with 2 Axes>"
            ]
          },
          "metadata": {
            "tags": [],
            "needs_background": "light"
          }
        }
      ]
    },
    {
      "cell_type": "markdown",
      "metadata": {
        "id": "U2tcv_xDpcES",
        "colab_type": "text"
      },
      "source": [
        "# Problem 3"
      ]
    },
    {
      "cell_type": "markdown",
      "metadata": {
        "id": "z22OZwhRGLtI",
        "colab_type": "text"
      },
      "source": [
        "manual logistic regression.\n",
        "\n",
        "we calculate the loss and accuracy of this manual regression"
      ]
    },
    {
      "cell_type": "code",
      "metadata": {
        "id": "DTURJcfsUGXa",
        "colab_type": "code",
        "colab": {
          "base_uri": "https://localhost:8080/",
          "height": 119
        },
        "outputId": "de59db88-aa3f-476d-96ca-2aa32717af14"
      },
      "source": [
        "sgd_w = np.random.rand(2)\n",
        "sgd_b = np.zeros(1)\n",
        "\n",
        "def sigmoid(z):\n",
        "  return 1 / (1 + np.exp(z * -1))\n",
        "\n",
        "def binary_cross_entropy_loss(x, y):\n",
        "  return -1 * x * np.log10(y) - (1-x) * np.log10(1-y)\n",
        "\n",
        "# number of epochs\n",
        "epochs = 100\n",
        "\n",
        "# learning rate\n",
        "lr = .01\n",
        "\n",
        "for epoch in range(epochs):\n",
        "  for i in range(split):\n",
        "    z = np.dot(sgd_w, train_data[i]) + sgd_b \n",
        "    \n",
        "    # gradients for the different weights\n",
        "    # sig is also gradient for bias weight\n",
        "    sig = sigmoid(z) - train_label[i]\n",
        "    grad_w1 = sig * train_data[i][0]\n",
        "    grad_w2 = sig * train_data[i][1]\n",
        "\n",
        "    # applying learning rate on graidents\n",
        "    sgd_w[0] -= lr * grad_w1\n",
        "    sgd_w[1] -= lr * grad_w2\n",
        "    sgd_b -= lr * sig\n",
        "\n",
        "loss = 0\n",
        "num_correct = 0\n",
        "\n",
        "for i in range(len(test_data)):\n",
        "   z = sigmoid(np.dot(test_data[i], sgd_w) + sgd_b)\n",
        "   loss += binary_cross_entropy_loss(test_label[i], z)\n",
        "\n",
        "   if (z < .5 and test_label[i] == 0) or (z >= .5 and test_label[i] == 1):\n",
        "    num_correct = num_correct + 1\n",
        "\n",
        "print(\"the loss is:\")\n",
        "print((loss[0]/len(test_data)))\n",
        "print(\"\\nthe accuracy is:\")\n",
        "print((num_correct/len(test_data)))\n"
      ],
      "execution_count": 21,
      "outputs": [
        {
          "output_type": "stream",
          "text": [
            "the loss is:\n",
            "0.1656354507585028\n",
            "\n",
            "the accuracy is:\n",
            "0.8295\n",
            "[4.2675765]\n"
          ],
          "name": "stdout"
        }
      ]
    },
    {
      "cell_type": "markdown",
      "metadata": {
        "id": "e17Le4hZFHrq",
        "colab_type": "text"
      },
      "source": [
        "displaying the graph and comparing our manual regressions line of seperation to the true one, using the same idea expressed in problem 2.\n",
        "\n",
        "White is the true line of seperation, where black is the prediction"
      ]
    },
    {
      "cell_type": "code",
      "metadata": {
        "id": "ReyqwKATEb8b",
        "colab_type": "code",
        "colab": {
          "base_uri": "https://localhost:8080/",
          "height": 265
        },
        "outputId": "9fba25c7-2288-4960-e3f0-5f8421d60042"
      },
      "source": [
        "true_line_x = np.linspace(0, 1, 100)\n",
        "true_line_y = w * true_line_x + b\n",
        "\n",
        "model_b = sgd_b[0]\n",
        "w1 = sgd_w[0]\n",
        "w2 = sgd_w[1]\n",
        "\n",
        "model_line_x = true_line_x\n",
        "model_line_y = ((-1 * model_b / w2) / (model_b / w1)) * model_line_x + (-1 * model_b / w2)\n",
        "\n",
        "plt.plot(true_line_x, true_line_y, color=\"white\")\n",
        "plt.plot(model_line_x, model_line_y, color=\"black\")\n",
        "display_random_data(data, labels)"
      ],
      "execution_count": 22,
      "outputs": [
        {
          "output_type": "display_data",
          "data": {
            "image/png": "[encoded data removed]",
            "text/plain": [
              "<Figure size 432x288 with 1 Axes>"
            ]
          },
          "metadata": {
            "tags": [],
            "needs_background": "light"
          }
        }
      ]
    },
    {
      "cell_type": "markdown",
      "metadata": {
        "id": "Kom_JGZfIWmq",
        "colab_type": "text"
      },
      "source": [
        "heatmap for the above logistic regression model's predictions"
      ]
    },
    {
      "cell_type": "code",
      "metadata": {
        "id": "TFI7USnKJDmr",
        "colab_type": "code",
        "colab": {
          "base_uri": "https://localhost:8080/",
          "height": 269
        },
        "outputId": "438a5be6-becf-42b5-d420-b46a5ae3fb56"
      },
      "source": [
        "x_cont = np.linspace(0, 1, 100)\n",
        "y_cont = np.linspace(0, 10, 100)\n",
        "X, Y = np.meshgrid(x_cont, y_cont)\n",
        "\n",
        "input_heat = (X.flatten() * sgd_w[0] +  Y.flatten() * sgd_w[1])\n",
        "Z = sigmoid(input_heat)\n",
        "Z = Z.reshape(X.shape)\n",
        "\n",
        "plt.contourf(X, Y, Z, 50, cmap='RdGy')\n",
        "plt.colorbar();\n",
        "plt.show()"
      ],
      "execution_count": 23,
      "outputs": [
        {
          "output_type": "display_data",
          "data": {
            "image/png": "[encoded data removed]",
            "text/plain": [
              "<Figure size 432x288 with 2 Axes>"
            ]
          },
          "metadata": {
            "tags": [],
            "needs_background": "light"
          }
        }
      ]
    }
  ]
}