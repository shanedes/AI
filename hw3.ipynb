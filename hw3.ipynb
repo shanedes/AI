{
  "nbformat": 4,
  "nbformat_minor": 0,
  "metadata": {
    "colab": {
      "name": "hw3.ipynb",
      "provenance": [],
      "toc_visible": true,
      "authorship_tag": "ABX9TyNdADk7Fkipm4z7z5VvGuYz",
      "include_colab_link": true
    },
    "kernelspec": {
      "name": "python3",
      "display_name": "Python 3"
    }
  },
  "cells": [
    {
      "cell_type": "markdown",
      "metadata": {
        "id": "view-in-github",
        "colab_type": "text"
      },
      "source": [
        "<a href=\"https://colab.research.google.com/github/shanedes/AI/blob/master/hw3.ipynb\" target=\"_parent\"><img src=\"https://colab.research.google.com/assets/colab-badge.svg\" alt=\"Open In Colab\"/></a>"
      ]
    },
    {
      "cell_type": "markdown",
      "metadata": {
        "id": "8qI0fNsQpyQu",
        "colab_type": "text"
      },
      "source": [
        "**important note: this code must all be compiled sequentially*"
      ]
    },
    {
      "cell_type": "markdown",
      "metadata": {
        "id": "k9pG73A3Xkr9",
        "colab_type": "text"
      },
      "source": [
        "# Problem 1"
      ]
    },
    {
      "cell_type": "markdown",
      "metadata": {
        "id": "xksGzRNUXv_Z",
        "colab_type": "text"
      },
      "source": [
        "imports"
      ]
    },
    {
      "cell_type": "code",
      "metadata": {
        "id": "_c_VfNotX4DP",
        "colab_type": "code",
        "colab": {}
      },
      "source": [
        "from mpl_toolkits import mplot3d\n",
        "%matplotlib inline\n",
        "import numpy as np\n",
        "import matplotlib.pyplot as plt"
      ],
      "execution_count": 0,
      "outputs": []
    },
    {
      "cell_type": "markdown",
      "metadata": {
        "id": "GpfPPQS0YD3l",
        "colab_type": "text"
      },
      "source": [
        "function that generates m points of x,y data and labels"
      ]
    },
    {
      "cell_type": "code",
      "metadata": {
        "id": "aFlWoYibX74x",
        "colab_type": "code",
        "colab": {}
      },
      "source": [
        "def get_random_data(w, b, mu, sigma, m):\n",
        "    \n",
        "    c = np.random.randint(0, 2, size=m)\n",
        "    \n",
        "    # uniform distribution on [0,1) for x_1\n",
        "    x_1 = np.random.rand(m)\n",
        "    \n",
        "    # normal distribution for noise\n",
        "    n = np.random.normal(mu, sigma, m)\n",
        "    x_2 = w * x_1 + b + (-1)**c * n\n",
        "    data = np.column_stack((x_1, x_2))\n",
        "    labels = c\n",
        "\n",
        "    return (data, labels)"
      ],
      "execution_count": 0,
      "outputs": []
    },
    {
      "cell_type": "markdown",
      "metadata": {
        "id": "NzvQ0t41YgeE",
        "colab_type": "text"
      },
      "source": [
        "function that creates a scatterplot of the first 1000 points (at most) of data.\n",
        "\n",
        "The plot is restricted to 1000 points to reduce compile time and to increase visibilty\n",
        "\n"
      ]
    },
    {
      "cell_type": "code",
      "metadata": {
        "id": "G1EHvNF7Yv9m",
        "colab_type": "code",
        "colab": {}
      },
      "source": [
        "def display_random_data(data, labels):\n",
        "  points = np.column_stack((data, labels))\n",
        "  # only display at most 1000\n",
        "  if data.size > 1000:\n",
        "    points = points[:1000]\n",
        "  for p in points:\n",
        "    plt.scatter(p[0], p[1], color='red' if p[2]==1 else 'blue')\n",
        "  plt.show()"
      ],
      "execution_count": 0,
      "outputs": []
    },
    {
      "cell_type": "markdown",
      "metadata": {
        "id": "Pbvg53esY0IW",
        "colab_type": "text"
      },
      "source": [
        "generating data and then displaying it"
      ]
    },
    {
      "cell_type": "code",
      "metadata": {
        "id": "XV8J8dsLV1El",
        "colab_type": "code",
        "outputId": "3d82268b-4eaa-429a-bfaf-9e843f4f5645",
        "colab": {
          "base_uri": "https://localhost:8080/",
          "height": 265
        }
      },
      "source": [
        "# seed the random variable\n",
        "np.random.seed(42)\n",
        "w = 10\n",
        "b = 2\n",
        "mu = 1\n",
        "sigma = 1\n",
        "m = 10000\n",
        "data, labels = get_random_data(w, b, mu, sigma, m)\n",
        "display_random_data(data, labels)"
      ],
      "execution_count": 0,
      "outputs": [
        {
          "output_type": "display_data",
          "data": {
            "image/png": "[encoded data removed]",
            "text/plain": [
              "<Figure size 432x288 with 1 Axes>"
            ]
          },
          "metadata": {
            "tags": []
          }
        }
      ]
    },
    {
      "cell_type": "markdown",
      "metadata": {
        "id": "VW5cQ-WoZC8b",
        "colab_type": "text"
      },
      "source": [
        "split the data 80% into training data and 20% into testing data"
      ]
    },
    {
      "cell_type": "code",
      "metadata": {
        "id": "U955_pkIZJ-o",
        "colab_type": "code",
        "colab": {}
      },
      "source": [
        "split = (int)(m*.8)\n",
        "train_data = data[:split]\n",
        "train_label = labels[:split]\n",
        "test_data = data[split:]\n",
        "test_label = labels[split:]"
      ],
      "execution_count": 0,
      "outputs": []
    },
    {
      "cell_type": "markdown",
      "metadata": {
        "id": "Ctea8-QTa46G",
        "colab_type": "text"
      },
      "source": [
        "# Problem 2"
      ]
    },
    {
      "cell_type": "markdown",
      "metadata": {
        "id": "1NNxBm1wa875",
        "colab_type": "text"
      },
      "source": [
        "Imports"
      ]
    },
    {
      "cell_type": "code",
      "metadata": {
        "id": "X5j0P71Ia_S_",
        "colab_type": "code",
        "colab": {}
      },
      "source": [
        "%tensorflow_version 2.x\n",
        "from tensorflow.keras import models\n",
        "from tensorflow.keras import layers\n",
        "from tensorflow.keras import optimizers"
      ],
      "execution_count": 0,
      "outputs": []
    },
    {
      "cell_type": "markdown",
      "metadata": {
        "id": "CTP-efa-bCx9",
        "colab_type": "text"
      },
      "source": [
        "create a model with  binary cross entropy loss and sigmoid activation\n",
        "\n"
      ]
    },
    {
      "cell_type": "code",
      "metadata": {
        "id": "UPUYg6jdbJ8L",
        "colab_type": "code",
        "colab": {}
      },
      "source": [
        "network = models.Sequential()\n",
        "network.add(layers.Dense(1, activation = 'sigmoid', input_shape=(2,)))\n",
        "network.compile(optimizers.RMSprop(lr=0.01),\n",
        "                loss='binary_crossentropy',\n",
        "                metrics=['accuracy'])"
      ],
      "execution_count": 0,
      "outputs": []
    },
    {
      "cell_type": "markdown",
      "metadata": {
        "id": "AstET495bLSO",
        "colab_type": "text"
      },
      "source": [
        "train model with data produced from problem 1"
      ]
    },
    {
      "cell_type": "code",
      "metadata": {
        "id": "jfURHwNUnfxq",
        "colab_type": "code",
        "colab": {
          "base_uri": "https://localhost:8080/",
          "height": 1000
        },
        "outputId": "856e13c7-3c8a-4fc7-9706-318aef245503"
      },
      "source": [
        "history = network.fit(test_data, \n",
        "                      test_label,\n",
        "                      epochs=300,\n",
        "                      batch_size=512,\n",
        "                      validation_data=(train_data, train_label))"
      ],
      "execution_count": 4,
      "outputs": [
        {
          "output_type": "stream",
          "text": [
            "Epoch 1/300\n",
            "4/4 [==============================] - 0s 47ms/step - loss: 0.6653 - accuracy: 0.6610 - val_loss: 0.6513 - val_accuracy: 0.5511\n",
            "Epoch 2/300\n",
            "4/4 [==============================] - 0s 13ms/step - loss: 0.6530 - accuracy: 0.5880 - val_loss: 0.6462 - val_accuracy: 0.5864\n",
            "Epoch 3/300\n",
            "4/4 [==============================] - 0s 13ms/step - loss: 0.6477 - accuracy: 0.6110 - val_loss: 0.6418 - val_accuracy: 0.6100\n",
            "Epoch 4/300\n",
            "4/4 [==============================] - 0s 14ms/step - loss: 0.6440 - accuracy: 0.6320 - val_loss: 0.6380 - val_accuracy: 0.6549\n",
            "Epoch 5/300\n",
            "4/4 [==============================] - 0s 13ms/step - loss: 0.6396 - accuracy: 0.6600 - val_loss: 0.6343 - val_accuracy: 0.6576\n",
            "Epoch 6/300\n",
            "4/4 [==============================] - 0s 13ms/step - loss: 0.6379 - accuracy: 0.6690 - val_loss: 0.6315 - val_accuracy: 0.7170\n",
            "Epoch 7/300\n",
            "4/4 [==============================] - 0s 14ms/step - loss: 0.6335 - accuracy: 0.6930 - val_loss: 0.6293 - val_accuracy: 0.7754\n",
            "Epoch 8/300\n",
            "4/4 [==============================] - 0s 13ms/step - loss: 0.6311 - accuracy: 0.7035 - val_loss: 0.6263 - val_accuracy: 0.7821\n",
            "Epoch 9/300\n",
            "4/4 [==============================] - 0s 13ms/step - loss: 0.6284 - accuracy: 0.7395 - val_loss: 0.6230 - val_accuracy: 0.7699\n",
            "Epoch 10/300\n",
            "4/4 [==============================] - 0s 13ms/step - loss: 0.6251 - accuracy: 0.7330 - val_loss: 0.6203 - val_accuracy: 0.7793\n",
            "Epoch 11/300\n",
            "4/4 [==============================] - 0s 13ms/step - loss: 0.6227 - accuracy: 0.7370 - val_loss: 0.6170 - val_accuracy: 0.7623\n",
            "Epoch 12/300\n",
            "4/4 [==============================] - 0s 14ms/step - loss: 0.6195 - accuracy: 0.7340 - val_loss: 0.6149 - val_accuracy: 0.7865\n",
            "Epoch 13/300\n",
            "4/4 [==============================] - 0s 13ms/step - loss: 0.6182 - accuracy: 0.7595 - val_loss: 0.6115 - val_accuracy: 0.7181\n",
            "Epoch 14/300\n",
            "4/4 [==============================] - 0s 17ms/step - loss: 0.6150 - accuracy: 0.7295 - val_loss: 0.6095 - val_accuracy: 0.7746\n",
            "Epoch 15/300\n",
            "4/4 [==============================] - 0s 13ms/step - loss: 0.6120 - accuracy: 0.7600 - val_loss: 0.6069 - val_accuracy: 0.7725\n",
            "Epoch 16/300\n",
            "4/4 [==============================] - 0s 13ms/step - loss: 0.6109 - accuracy: 0.7575 - val_loss: 0.6042 - val_accuracy: 0.7531\n",
            "Epoch 17/300\n",
            "4/4 [==============================] - 0s 12ms/step - loss: 0.6074 - accuracy: 0.7475 - val_loss: 0.6030 - val_accuracy: 0.7891\n",
            "Epoch 18/300\n",
            "4/4 [==============================] - 0s 13ms/step - loss: 0.6052 - accuracy: 0.7635 - val_loss: 0.6004 - val_accuracy: 0.7844\n",
            "Epoch 19/300\n",
            "4/4 [==============================] - 0s 13ms/step - loss: 0.6028 - accuracy: 0.7615 - val_loss: 0.5974 - val_accuracy: 0.7715\n",
            "Epoch 20/300\n",
            "4/4 [==============================] - 0s 13ms/step - loss: 0.6009 - accuracy: 0.7595 - val_loss: 0.5964 - val_accuracy: 0.7908\n",
            "Epoch 21/300\n",
            "4/4 [==============================] - 0s 13ms/step - loss: 0.5990 - accuracy: 0.7595 - val_loss: 0.5936 - val_accuracy: 0.7841\n",
            "Epoch 22/300\n",
            "4/4 [==============================] - 0s 12ms/step - loss: 0.5968 - accuracy: 0.7610 - val_loss: 0.5920 - val_accuracy: 0.7859\n",
            "Epoch 23/300\n",
            "4/4 [==============================] - 0s 13ms/step - loss: 0.5952 - accuracy: 0.7630 - val_loss: 0.5886 - val_accuracy: 0.7646\n",
            "Epoch 24/300\n",
            "4/4 [==============================] - 0s 13ms/step - loss: 0.5926 - accuracy: 0.7670 - val_loss: 0.5870 - val_accuracy: 0.7389\n",
            "Epoch 25/300\n",
            "4/4 [==============================] - 0s 14ms/step - loss: 0.5901 - accuracy: 0.7550 - val_loss: 0.5848 - val_accuracy: 0.7755\n",
            "Epoch 26/300\n",
            "4/4 [==============================] - 0s 13ms/step - loss: 0.5893 - accuracy: 0.7645 - val_loss: 0.5825 - val_accuracy: 0.7602\n",
            "Epoch 27/300\n",
            "4/4 [==============================] - 0s 13ms/step - loss: 0.5867 - accuracy: 0.7635 - val_loss: 0.5806 - val_accuracy: 0.7616\n",
            "Epoch 28/300\n",
            "4/4 [==============================] - 0s 12ms/step - loss: 0.5848 - accuracy: 0.7635 - val_loss: 0.5788 - val_accuracy: 0.7475\n",
            "Epoch 29/300\n",
            "4/4 [==============================] - 0s 14ms/step - loss: 0.5831 - accuracy: 0.7540 - val_loss: 0.5768 - val_accuracy: 0.7661\n",
            "Epoch 30/300\n",
            "4/4 [==============================] - 0s 12ms/step - loss: 0.5804 - accuracy: 0.7605 - val_loss: 0.5754 - val_accuracy: 0.7435\n",
            "Epoch 31/300\n",
            "4/4 [==============================] - 0s 15ms/step - loss: 0.5798 - accuracy: 0.7520 - val_loss: 0.5732 - val_accuracy: 0.7686\n",
            "Epoch 32/300\n",
            "4/4 [==============================] - 0s 13ms/step - loss: 0.5775 - accuracy: 0.7670 - val_loss: 0.5727 - val_accuracy: 0.7374\n",
            "Epoch 33/300\n",
            "4/4 [==============================] - 0s 13ms/step - loss: 0.5764 - accuracy: 0.7495 - val_loss: 0.5703 - val_accuracy: 0.7721\n",
            "Epoch 34/300\n",
            "4/4 [==============================] - 0s 14ms/step - loss: 0.5747 - accuracy: 0.7630 - val_loss: 0.5681 - val_accuracy: 0.7601\n",
            "Epoch 35/300\n",
            "4/4 [==============================] - 0s 13ms/step - loss: 0.5728 - accuracy: 0.7565 - val_loss: 0.5667 - val_accuracy: 0.7694\n",
            "Epoch 36/300\n",
            "4/4 [==============================] - 0s 13ms/step - loss: 0.5719 - accuracy: 0.7590 - val_loss: 0.5649 - val_accuracy: 0.7663\n",
            "Epoch 37/300\n",
            "4/4 [==============================] - 0s 13ms/step - loss: 0.5696 - accuracy: 0.7565 - val_loss: 0.5639 - val_accuracy: 0.7725\n",
            "Epoch 38/300\n",
            "4/4 [==============================] - 0s 13ms/step - loss: 0.5684 - accuracy: 0.7595 - val_loss: 0.5616 - val_accuracy: 0.7660\n",
            "Epoch 39/300\n",
            "4/4 [==============================] - 0s 12ms/step - loss: 0.5678 - accuracy: 0.7590 - val_loss: 0.5604 - val_accuracy: 0.7561\n",
            "Epoch 40/300\n",
            "4/4 [==============================] - 0s 15ms/step - loss: 0.5655 - accuracy: 0.7585 - val_loss: 0.5587 - val_accuracy: 0.7660\n",
            "Epoch 41/300\n",
            "4/4 [==============================] - 0s 13ms/step - loss: 0.5640 - accuracy: 0.7575 - val_loss: 0.5577 - val_accuracy: 0.7558\n",
            "Epoch 42/300\n",
            "4/4 [==============================] - 0s 12ms/step - loss: 0.5623 - accuracy: 0.7560 - val_loss: 0.5561 - val_accuracy: 0.7686\n",
            "Epoch 43/300\n",
            "4/4 [==============================] - 0s 14ms/step - loss: 0.5609 - accuracy: 0.7610 - val_loss: 0.5546 - val_accuracy: 0.7559\n",
            "Epoch 44/300\n",
            "4/4 [==============================] - 0s 12ms/step - loss: 0.5599 - accuracy: 0.7635 - val_loss: 0.5545 - val_accuracy: 0.7460\n",
            "Epoch 45/300\n",
            "4/4 [==============================] - 0s 12ms/step - loss: 0.5597 - accuracy: 0.7510 - val_loss: 0.5528 - val_accuracy: 0.7511\n",
            "Epoch 46/300\n",
            "4/4 [==============================] - 0s 14ms/step - loss: 0.5583 - accuracy: 0.7570 - val_loss: 0.5504 - val_accuracy: 0.7650\n",
            "Epoch 47/300\n",
            "4/4 [==============================] - 0s 12ms/step - loss: 0.5556 - accuracy: 0.7580 - val_loss: 0.5495 - val_accuracy: 0.7739\n",
            "Epoch 48/300\n",
            "4/4 [==============================] - 0s 12ms/step - loss: 0.5553 - accuracy: 0.7610 - val_loss: 0.5479 - val_accuracy: 0.7704\n",
            "Epoch 49/300\n",
            "4/4 [==============================] - 0s 13ms/step - loss: 0.5543 - accuracy: 0.7570 - val_loss: 0.5466 - val_accuracy: 0.7695\n",
            "Epoch 50/300\n",
            "4/4 [==============================] - 0s 13ms/step - loss: 0.5519 - accuracy: 0.7605 - val_loss: 0.5462 - val_accuracy: 0.7788\n",
            "Epoch 51/300\n",
            "4/4 [==============================] - 0s 12ms/step - loss: 0.5512 - accuracy: 0.7625 - val_loss: 0.5441 - val_accuracy: 0.7707\n",
            "Epoch 52/300\n",
            "4/4 [==============================] - 0s 14ms/step - loss: 0.5498 - accuracy: 0.7650 - val_loss: 0.5436 - val_accuracy: 0.7795\n",
            "Epoch 53/300\n",
            "4/4 [==============================] - 0s 12ms/step - loss: 0.5489 - accuracy: 0.7620 - val_loss: 0.5416 - val_accuracy: 0.7722\n",
            "Epoch 54/300\n",
            "4/4 [==============================] - 0s 12ms/step - loss: 0.5479 - accuracy: 0.7685 - val_loss: 0.5404 - val_accuracy: 0.7705\n",
            "Epoch 55/300\n",
            "4/4 [==============================] - 0s 14ms/step - loss: 0.5470 - accuracy: 0.7680 - val_loss: 0.5394 - val_accuracy: 0.7771\n",
            "Epoch 56/300\n",
            "4/4 [==============================] - 0s 12ms/step - loss: 0.5465 - accuracy: 0.7595 - val_loss: 0.5388 - val_accuracy: 0.7810\n",
            "Epoch 57/300\n",
            "4/4 [==============================] - 0s 12ms/step - loss: 0.5445 - accuracy: 0.7690 - val_loss: 0.5372 - val_accuracy: 0.7797\n",
            "Epoch 58/300\n",
            "4/4 [==============================] - 0s 13ms/step - loss: 0.5435 - accuracy: 0.7630 - val_loss: 0.5358 - val_accuracy: 0.7744\n",
            "Epoch 59/300\n",
            "4/4 [==============================] - 0s 12ms/step - loss: 0.5422 - accuracy: 0.7655 - val_loss: 0.5352 - val_accuracy: 0.7824\n",
            "Epoch 60/300\n",
            "4/4 [==============================] - 0s 13ms/step - loss: 0.5403 - accuracy: 0.7705 - val_loss: 0.5336 - val_accuracy: 0.7739\n",
            "Epoch 61/300\n",
            "4/4 [==============================] - 0s 14ms/step - loss: 0.5408 - accuracy: 0.7770 - val_loss: 0.5325 - val_accuracy: 0.7750\n",
            "Epoch 62/300\n",
            "4/4 [==============================] - 0s 13ms/step - loss: 0.5386 - accuracy: 0.7685 - val_loss: 0.5317 - val_accuracy: 0.7715\n",
            "Epoch 63/300\n",
            "4/4 [==============================] - 0s 12ms/step - loss: 0.5378 - accuracy: 0.7675 - val_loss: 0.5305 - val_accuracy: 0.7834\n",
            "Epoch 64/300\n",
            "4/4 [==============================] - 0s 14ms/step - loss: 0.5370 - accuracy: 0.7695 - val_loss: 0.5319 - val_accuracy: 0.7866\n",
            "Epoch 65/300\n",
            "4/4 [==============================] - 0s 12ms/step - loss: 0.5357 - accuracy: 0.7720 - val_loss: 0.5281 - val_accuracy: 0.7763\n",
            "Epoch 66/300\n",
            "4/4 [==============================] - 0s 13ms/step - loss: 0.5349 - accuracy: 0.7730 - val_loss: 0.5270 - val_accuracy: 0.7831\n",
            "Epoch 67/300\n",
            "4/4 [==============================] - 0s 13ms/step - loss: 0.5342 - accuracy: 0.7780 - val_loss: 0.5260 - val_accuracy: 0.7771\n",
            "Epoch 68/300\n",
            "4/4 [==============================] - 0s 12ms/step - loss: 0.5327 - accuracy: 0.7745 - val_loss: 0.5254 - val_accuracy: 0.7751\n",
            "Epoch 69/300\n",
            "4/4 [==============================] - 0s 13ms/step - loss: 0.5321 - accuracy: 0.7700 - val_loss: 0.5238 - val_accuracy: 0.7850\n",
            "Epoch 70/300\n",
            "4/4 [==============================] - 0s 14ms/step - loss: 0.5320 - accuracy: 0.7770 - val_loss: 0.5230 - val_accuracy: 0.7869\n",
            "Epoch 71/300\n",
            "4/4 [==============================] - 0s 13ms/step - loss: 0.5292 - accuracy: 0.7775 - val_loss: 0.5219 - val_accuracy: 0.7793\n",
            "Epoch 72/300\n",
            "4/4 [==============================] - 0s 13ms/step - loss: 0.5287 - accuracy: 0.7765 - val_loss: 0.5216 - val_accuracy: 0.7903\n",
            "Epoch 73/300\n",
            "4/4 [==============================] - 0s 13ms/step - loss: 0.5276 - accuracy: 0.7800 - val_loss: 0.5198 - val_accuracy: 0.7891\n",
            "Epoch 74/300\n",
            "4/4 [==============================] - 0s 13ms/step - loss: 0.5268 - accuracy: 0.7795 - val_loss: 0.5187 - val_accuracy: 0.7886\n",
            "Epoch 75/300\n",
            "4/4 [==============================] - 0s 13ms/step - loss: 0.5252 - accuracy: 0.7785 - val_loss: 0.5177 - val_accuracy: 0.7895\n",
            "Epoch 76/300\n",
            "4/4 [==============================] - 0s 13ms/step - loss: 0.5249 - accuracy: 0.7805 - val_loss: 0.5166 - val_accuracy: 0.7900\n",
            "Epoch 77/300\n",
            "4/4 [==============================] - 0s 13ms/step - loss: 0.5240 - accuracy: 0.7810 - val_loss: 0.5154 - val_accuracy: 0.7897\n",
            "Epoch 78/300\n",
            "4/4 [==============================] - 0s 13ms/step - loss: 0.5229 - accuracy: 0.7830 - val_loss: 0.5144 - val_accuracy: 0.7885\n",
            "Epoch 79/300\n",
            "4/4 [==============================] - 0s 14ms/step - loss: 0.5215 - accuracy: 0.7840 - val_loss: 0.5136 - val_accuracy: 0.7847\n",
            "Epoch 80/300\n",
            "4/4 [==============================] - 0s 12ms/step - loss: 0.5210 - accuracy: 0.7800 - val_loss: 0.5125 - val_accuracy: 0.7871\n",
            "Epoch 81/300\n",
            "4/4 [==============================] - 0s 12ms/step - loss: 0.5201 - accuracy: 0.7830 - val_loss: 0.5114 - val_accuracy: 0.7924\n",
            "Epoch 82/300\n",
            "4/4 [==============================] - 0s 13ms/step - loss: 0.5186 - accuracy: 0.7870 - val_loss: 0.5105 - val_accuracy: 0.7884\n",
            "Epoch 83/300\n",
            "4/4 [==============================] - 0s 13ms/step - loss: 0.5185 - accuracy: 0.7815 - val_loss: 0.5094 - val_accuracy: 0.7941\n",
            "Epoch 84/300\n",
            "4/4 [==============================] - 0s 12ms/step - loss: 0.5171 - accuracy: 0.7850 - val_loss: 0.5085 - val_accuracy: 0.7903\n",
            "Epoch 85/300\n",
            "4/4 [==============================] - 0s 13ms/step - loss: 0.5163 - accuracy: 0.7825 - val_loss: 0.5076 - val_accuracy: 0.7956\n",
            "Epoch 86/300\n",
            "4/4 [==============================] - 0s 13ms/step - loss: 0.5148 - accuracy: 0.7865 - val_loss: 0.5069 - val_accuracy: 0.7983\n",
            "Epoch 87/300\n",
            "4/4 [==============================] - 0s 13ms/step - loss: 0.5138 - accuracy: 0.7880 - val_loss: 0.5055 - val_accuracy: 0.7926\n",
            "Epoch 88/300\n",
            "4/4 [==============================] - 0s 15ms/step - loss: 0.5146 - accuracy: 0.7910 - val_loss: 0.5045 - val_accuracy: 0.7970\n",
            "Epoch 89/300\n",
            "4/4 [==============================] - 0s 13ms/step - loss: 0.5127 - accuracy: 0.7810 - val_loss: 0.5045 - val_accuracy: 0.8002\n",
            "Epoch 90/300\n",
            "4/4 [==============================] - 0s 12ms/step - loss: 0.5120 - accuracy: 0.7880 - val_loss: 0.5032 - val_accuracy: 0.8008\n",
            "Epoch 91/300\n",
            "4/4 [==============================] - 0s 12ms/step - loss: 0.5114 - accuracy: 0.7895 - val_loss: 0.5023 - val_accuracy: 0.8008\n",
            "Epoch 92/300\n",
            "4/4 [==============================] - 0s 12ms/step - loss: 0.5105 - accuracy: 0.7915 - val_loss: 0.5013 - val_accuracy: 0.8018\n",
            "Epoch 93/300\n",
            "4/4 [==============================] - 0s 13ms/step - loss: 0.5090 - accuracy: 0.8030 - val_loss: 0.5003 - val_accuracy: 0.7981\n",
            "Epoch 94/300\n",
            "4/4 [==============================] - 0s 12ms/step - loss: 0.5076 - accuracy: 0.7810 - val_loss: 0.4995 - val_accuracy: 0.8027\n",
            "Epoch 95/300\n",
            "4/4 [==============================] - 0s 13ms/step - loss: 0.5070 - accuracy: 0.7970 - val_loss: 0.4984 - val_accuracy: 0.8035\n",
            "Epoch 96/300\n",
            "4/4 [==============================] - 0s 12ms/step - loss: 0.5066 - accuracy: 0.7935 - val_loss: 0.4974 - val_accuracy: 0.8011\n",
            "Epoch 97/300\n",
            "4/4 [==============================] - 0s 12ms/step - loss: 0.5058 - accuracy: 0.7850 - val_loss: 0.4982 - val_accuracy: 0.8069\n",
            "Epoch 98/300\n",
            "4/4 [==============================] - 0s 15ms/step - loss: 0.5072 - accuracy: 0.7885 - val_loss: 0.4968 - val_accuracy: 0.8066\n",
            "Epoch 99/300\n",
            "4/4 [==============================] - 0s 14ms/step - loss: 0.5038 - accuracy: 0.7975 - val_loss: 0.4954 - val_accuracy: 0.8058\n",
            "Epoch 100/300\n",
            "4/4 [==============================] - 0s 13ms/step - loss: 0.5030 - accuracy: 0.7985 - val_loss: 0.4940 - val_accuracy: 0.8046\n",
            "Epoch 101/300\n",
            "4/4 [==============================] - 0s 13ms/step - loss: 0.5020 - accuracy: 0.7940 - val_loss: 0.4932 - val_accuracy: 0.8055\n",
            "Epoch 102/300\n",
            "4/4 [==============================] - 0s 12ms/step - loss: 0.5014 - accuracy: 0.7950 - val_loss: 0.4930 - val_accuracy: 0.8079\n",
            "Epoch 103/300\n",
            "4/4 [==============================] - 0s 13ms/step - loss: 0.5010 - accuracy: 0.7940 - val_loss: 0.4916 - val_accuracy: 0.8099\n",
            "Epoch 104/300\n",
            "4/4 [==============================] - 0s 13ms/step - loss: 0.4998 - accuracy: 0.8010 - val_loss: 0.4905 - val_accuracy: 0.8086\n",
            "Epoch 105/300\n",
            "4/4 [==============================] - 0s 13ms/step - loss: 0.4989 - accuracy: 0.7925 - val_loss: 0.4916 - val_accuracy: 0.8123\n",
            "Epoch 106/300\n",
            "4/4 [==============================] - 0s 13ms/step - loss: 0.4986 - accuracy: 0.8000 - val_loss: 0.4887 - val_accuracy: 0.8102\n",
            "Epoch 107/300\n",
            "4/4 [==============================] - 0s 14ms/step - loss: 0.4971 - accuracy: 0.7975 - val_loss: 0.4881 - val_accuracy: 0.8121\n",
            "Epoch 108/300\n",
            "4/4 [==============================] - 0s 13ms/step - loss: 0.4963 - accuracy: 0.7995 - val_loss: 0.4870 - val_accuracy: 0.8096\n",
            "Epoch 109/300\n",
            "4/4 [==============================] - 0s 14ms/step - loss: 0.4966 - accuracy: 0.7970 - val_loss: 0.4867 - val_accuracy: 0.8126\n",
            "Epoch 110/300\n",
            "4/4 [==============================] - 0s 13ms/step - loss: 0.4948 - accuracy: 0.8005 - val_loss: 0.4853 - val_accuracy: 0.8111\n",
            "Epoch 111/300\n",
            "4/4 [==============================] - 0s 13ms/step - loss: 0.4941 - accuracy: 0.7955 - val_loss: 0.4847 - val_accuracy: 0.8154\n",
            "Epoch 112/300\n",
            "4/4 [==============================] - 0s 13ms/step - loss: 0.4930 - accuracy: 0.7980 - val_loss: 0.4842 - val_accuracy: 0.8140\n",
            "Epoch 113/300\n",
            "4/4 [==============================] - 0s 13ms/step - loss: 0.4921 - accuracy: 0.8010 - val_loss: 0.4827 - val_accuracy: 0.8130\n",
            "Epoch 114/300\n",
            "4/4 [==============================] - 0s 13ms/step - loss: 0.4921 - accuracy: 0.8015 - val_loss: 0.4820 - val_accuracy: 0.8108\n",
            "Epoch 115/300\n",
            "4/4 [==============================] - 0s 13ms/step - loss: 0.4914 - accuracy: 0.7985 - val_loss: 0.4811 - val_accuracy: 0.8144\n",
            "Epoch 116/300\n",
            "4/4 [==============================] - 0s 15ms/step - loss: 0.4900 - accuracy: 0.7995 - val_loss: 0.4803 - val_accuracy: 0.8154\n",
            "Epoch 117/300\n",
            "4/4 [==============================] - 0s 14ms/step - loss: 0.4895 - accuracy: 0.8025 - val_loss: 0.4795 - val_accuracy: 0.8161\n",
            "Epoch 118/300\n",
            "4/4 [==============================] - 0s 13ms/step - loss: 0.4885 - accuracy: 0.7995 - val_loss: 0.4787 - val_accuracy: 0.8190\n",
            "Epoch 119/300\n",
            "4/4 [==============================] - 0s 13ms/step - loss: 0.4876 - accuracy: 0.8045 - val_loss: 0.4785 - val_accuracy: 0.8195\n",
            "Epoch 120/300\n",
            "4/4 [==============================] - 0s 14ms/step - loss: 0.4865 - accuracy: 0.8040 - val_loss: 0.4770 - val_accuracy: 0.8191\n",
            "Epoch 121/300\n",
            "4/4 [==============================] - 0s 13ms/step - loss: 0.4866 - accuracy: 0.8030 - val_loss: 0.4767 - val_accuracy: 0.8115\n",
            "Epoch 122/300\n",
            "4/4 [==============================] - 0s 13ms/step - loss: 0.4860 - accuracy: 0.8060 - val_loss: 0.4754 - val_accuracy: 0.8196\n",
            "Epoch 123/300\n",
            "4/4 [==============================] - 0s 12ms/step - loss: 0.4866 - accuracy: 0.7985 - val_loss: 0.4759 - val_accuracy: 0.8210\n",
            "Epoch 124/300\n",
            "4/4 [==============================] - 0s 13ms/step - loss: 0.4837 - accuracy: 0.8100 - val_loss: 0.4741 - val_accuracy: 0.8216\n",
            "Epoch 125/300\n",
            "4/4 [==============================] - 0s 13ms/step - loss: 0.4829 - accuracy: 0.8035 - val_loss: 0.4734 - val_accuracy: 0.8220\n",
            "Epoch 126/300\n",
            "4/4 [==============================] - 0s 15ms/step - loss: 0.4825 - accuracy: 0.8035 - val_loss: 0.4729 - val_accuracy: 0.8221\n",
            "Epoch 127/300\n",
            "4/4 [==============================] - 0s 12ms/step - loss: 0.4819 - accuracy: 0.8090 - val_loss: 0.4720 - val_accuracy: 0.8220\n",
            "Epoch 128/300\n",
            "4/4 [==============================] - 0s 13ms/step - loss: 0.4807 - accuracy: 0.8050 - val_loss: 0.4717 - val_accuracy: 0.8232\n",
            "Epoch 129/300\n",
            "4/4 [==============================] - 0s 13ms/step - loss: 0.4799 - accuracy: 0.8080 - val_loss: 0.4702 - val_accuracy: 0.8236\n",
            "Epoch 130/300\n",
            "4/4 [==============================] - 0s 13ms/step - loss: 0.4803 - accuracy: 0.8040 - val_loss: 0.4694 - val_accuracy: 0.8232\n",
            "Epoch 131/300\n",
            "4/4 [==============================] - 0s 13ms/step - loss: 0.4786 - accuracy: 0.8090 - val_loss: 0.4691 - val_accuracy: 0.8244\n",
            "Epoch 132/300\n",
            "4/4 [==============================] - 0s 13ms/step - loss: 0.4779 - accuracy: 0.8120 - val_loss: 0.4689 - val_accuracy: 0.8246\n",
            "Epoch 133/300\n",
            "4/4 [==============================] - 0s 13ms/step - loss: 0.4774 - accuracy: 0.8105 - val_loss: 0.4673 - val_accuracy: 0.8240\n",
            "Epoch 134/300\n",
            "4/4 [==============================] - 0s 14ms/step - loss: 0.4771 - accuracy: 0.8130 - val_loss: 0.4668 - val_accuracy: 0.8184\n",
            "Epoch 135/300\n",
            "4/4 [==============================] - 0s 14ms/step - loss: 0.4760 - accuracy: 0.8125 - val_loss: 0.4657 - val_accuracy: 0.8216\n",
            "Epoch 136/300\n",
            "4/4 [==============================] - 0s 13ms/step - loss: 0.4747 - accuracy: 0.8110 - val_loss: 0.4651 - val_accuracy: 0.8251\n",
            "Epoch 137/300\n",
            "4/4 [==============================] - 0s 12ms/step - loss: 0.4745 - accuracy: 0.8110 - val_loss: 0.4641 - val_accuracy: 0.8249\n",
            "Epoch 138/300\n",
            "4/4 [==============================] - 0s 13ms/step - loss: 0.4744 - accuracy: 0.8095 - val_loss: 0.4640 - val_accuracy: 0.8261\n",
            "Epoch 139/300\n",
            "4/4 [==============================] - 0s 13ms/step - loss: 0.4724 - accuracy: 0.8115 - val_loss: 0.4627 - val_accuracy: 0.8257\n",
            "Epoch 140/300\n",
            "4/4 [==============================] - 0s 12ms/step - loss: 0.4720 - accuracy: 0.8145 - val_loss: 0.4620 - val_accuracy: 0.8266\n",
            "Epoch 141/300\n",
            "4/4 [==============================] - 0s 14ms/step - loss: 0.4717 - accuracy: 0.8160 - val_loss: 0.4620 - val_accuracy: 0.8191\n",
            "Epoch 142/300\n",
            "4/4 [==============================] - 0s 13ms/step - loss: 0.4707 - accuracy: 0.8170 - val_loss: 0.4607 - val_accuracy: 0.8274\n",
            "Epoch 143/300\n",
            "4/4 [==============================] - 0s 12ms/step - loss: 0.4720 - accuracy: 0.8160 - val_loss: 0.4609 - val_accuracy: 0.8264\n",
            "Epoch 144/300\n",
            "4/4 [==============================] - 0s 14ms/step - loss: 0.4699 - accuracy: 0.8165 - val_loss: 0.4594 - val_accuracy: 0.8251\n",
            "Epoch 145/300\n",
            "4/4 [==============================] - 0s 12ms/step - loss: 0.4693 - accuracy: 0.8155 - val_loss: 0.4587 - val_accuracy: 0.8265\n",
            "Epoch 146/300\n",
            "4/4 [==============================] - 0s 13ms/step - loss: 0.4693 - accuracy: 0.8165 - val_loss: 0.4579 - val_accuracy: 0.8282\n",
            "Epoch 147/300\n",
            "4/4 [==============================] - 0s 12ms/step - loss: 0.4682 - accuracy: 0.8145 - val_loss: 0.4585 - val_accuracy: 0.8280\n",
            "Epoch 148/300\n",
            "4/4 [==============================] - 0s 13ms/step - loss: 0.4674 - accuracy: 0.8185 - val_loss: 0.4568 - val_accuracy: 0.8269\n",
            "Epoch 149/300\n",
            "4/4 [==============================] - 0s 12ms/step - loss: 0.4677 - accuracy: 0.8130 - val_loss: 0.4561 - val_accuracy: 0.8279\n",
            "Epoch 150/300\n",
            "4/4 [==============================] - 0s 13ms/step - loss: 0.4658 - accuracy: 0.8130 - val_loss: 0.4555 - val_accuracy: 0.8291\n",
            "Epoch 151/300\n",
            "4/4 [==============================] - 0s 15ms/step - loss: 0.4659 - accuracy: 0.8160 - val_loss: 0.4552 - val_accuracy: 0.8301\n",
            "Epoch 152/300\n",
            "4/4 [==============================] - 0s 13ms/step - loss: 0.4646 - accuracy: 0.8195 - val_loss: 0.4543 - val_accuracy: 0.8298\n",
            "Epoch 153/300\n",
            "4/4 [==============================] - 0s 13ms/step - loss: 0.4642 - accuracy: 0.8170 - val_loss: 0.4536 - val_accuracy: 0.8300\n",
            "Epoch 154/300\n",
            "4/4 [==============================] - 0s 14ms/step - loss: 0.4634 - accuracy: 0.8185 - val_loss: 0.4536 - val_accuracy: 0.8305\n",
            "Epoch 155/300\n",
            "4/4 [==============================] - 0s 13ms/step - loss: 0.4631 - accuracy: 0.8180 - val_loss: 0.4523 - val_accuracy: 0.8310\n",
            "Epoch 156/300\n",
            "4/4 [==============================] - 0s 13ms/step - loss: 0.4625 - accuracy: 0.8215 - val_loss: 0.4516 - val_accuracy: 0.8313\n",
            "Epoch 157/300\n",
            "4/4 [==============================] - 0s 13ms/step - loss: 0.4626 - accuracy: 0.8180 - val_loss: 0.4513 - val_accuracy: 0.8313\n",
            "Epoch 158/300\n",
            "4/4 [==============================] - 0s 15ms/step - loss: 0.4613 - accuracy: 0.8185 - val_loss: 0.4502 - val_accuracy: 0.8320\n",
            "Epoch 159/300\n",
            "4/4 [==============================] - 0s 15ms/step - loss: 0.4601 - accuracy: 0.8220 - val_loss: 0.4497 - val_accuracy: 0.8310\n",
            "Epoch 160/300\n",
            "4/4 [==============================] - 0s 12ms/step - loss: 0.4609 - accuracy: 0.8165 - val_loss: 0.4497 - val_accuracy: 0.8313\n",
            "Epoch 161/300\n",
            "4/4 [==============================] - 0s 14ms/step - loss: 0.4600 - accuracy: 0.8205 - val_loss: 0.4493 - val_accuracy: 0.8315\n",
            "Epoch 162/300\n",
            "4/4 [==============================] - 0s 12ms/step - loss: 0.4592 - accuracy: 0.8210 - val_loss: 0.4480 - val_accuracy: 0.8326\n",
            "Epoch 163/300\n",
            "4/4 [==============================] - 0s 14ms/step - loss: 0.4588 - accuracy: 0.8195 - val_loss: 0.4474 - val_accuracy: 0.8313\n",
            "Epoch 164/300\n",
            "4/4 [==============================] - 0s 12ms/step - loss: 0.4584 - accuracy: 0.8180 - val_loss: 0.4466 - val_accuracy: 0.8326\n",
            "Epoch 165/300\n",
            "4/4 [==============================] - 0s 12ms/step - loss: 0.4588 - accuracy: 0.8155 - val_loss: 0.4463 - val_accuracy: 0.8331\n",
            "Epoch 166/300\n",
            "4/4 [==============================] - 0s 13ms/step - loss: 0.4564 - accuracy: 0.8225 - val_loss: 0.4456 - val_accuracy: 0.8336\n",
            "Epoch 167/300\n",
            "4/4 [==============================] - 0s 12ms/step - loss: 0.4553 - accuracy: 0.8215 - val_loss: 0.4450 - val_accuracy: 0.8325\n",
            "Epoch 168/300\n",
            "4/4 [==============================] - 0s 17ms/step - loss: 0.4555 - accuracy: 0.8215 - val_loss: 0.4446 - val_accuracy: 0.8340\n",
            "Epoch 169/300\n",
            "4/4 [==============================] - 0s 13ms/step - loss: 0.4551 - accuracy: 0.8170 - val_loss: 0.4442 - val_accuracy: 0.8335\n",
            "Epoch 170/300\n",
            "4/4 [==============================] - 0s 13ms/step - loss: 0.4552 - accuracy: 0.8250 - val_loss: 0.4433 - val_accuracy: 0.8349\n",
            "Epoch 171/300\n",
            "4/4 [==============================] - 0s 13ms/step - loss: 0.4545 - accuracy: 0.8235 - val_loss: 0.4425 - val_accuracy: 0.8336\n",
            "Epoch 172/300\n",
            "4/4 [==============================] - 0s 15ms/step - loss: 0.4528 - accuracy: 0.8200 - val_loss: 0.4434 - val_accuracy: 0.8338\n",
            "Epoch 173/300\n",
            "4/4 [==============================] - 0s 13ms/step - loss: 0.4530 - accuracy: 0.8225 - val_loss: 0.4418 - val_accuracy: 0.8344\n",
            "Epoch 174/300\n",
            "4/4 [==============================] - 0s 13ms/step - loss: 0.4525 - accuracy: 0.8245 - val_loss: 0.4407 - val_accuracy: 0.8349\n",
            "Epoch 175/300\n",
            "4/4 [==============================] - 0s 13ms/step - loss: 0.4528 - accuracy: 0.8190 - val_loss: 0.4403 - val_accuracy: 0.8350\n",
            "Epoch 176/300\n",
            "4/4 [==============================] - 0s 13ms/step - loss: 0.4507 - accuracy: 0.8250 - val_loss: 0.4398 - val_accuracy: 0.8338\n",
            "Epoch 177/300\n",
            "4/4 [==============================] - 0s 13ms/step - loss: 0.4500 - accuracy: 0.8280 - val_loss: 0.4391 - val_accuracy: 0.8338\n",
            "Epoch 178/300\n",
            "4/4 [==============================] - 0s 13ms/step - loss: 0.4508 - accuracy: 0.8220 - val_loss: 0.4386 - val_accuracy: 0.8351\n",
            "Epoch 179/300\n",
            "4/4 [==============================] - 0s 12ms/step - loss: 0.4490 - accuracy: 0.8255 - val_loss: 0.4379 - val_accuracy: 0.8353\n",
            "Epoch 180/300\n",
            "4/4 [==============================] - 0s 12ms/step - loss: 0.4490 - accuracy: 0.8235 - val_loss: 0.4384 - val_accuracy: 0.8351\n",
            "Epoch 181/300\n",
            "4/4 [==============================] - 0s 13ms/step - loss: 0.4486 - accuracy: 0.8285 - val_loss: 0.4368 - val_accuracy: 0.8357\n",
            "Epoch 182/300\n",
            "4/4 [==============================] - 0s 15ms/step - loss: 0.4487 - accuracy: 0.8235 - val_loss: 0.4363 - val_accuracy: 0.8347\n",
            "Epoch 183/300\n",
            "4/4 [==============================] - 0s 12ms/step - loss: 0.4470 - accuracy: 0.8260 - val_loss: 0.4357 - val_accuracy: 0.8355\n",
            "Epoch 184/300\n",
            "4/4 [==============================] - 0s 13ms/step - loss: 0.4464 - accuracy: 0.8245 - val_loss: 0.4351 - val_accuracy: 0.8363\n",
            "Epoch 185/300\n",
            "4/4 [==============================] - 0s 16ms/step - loss: 0.4465 - accuracy: 0.8250 - val_loss: 0.4346 - val_accuracy: 0.8356\n",
            "Epoch 186/300\n",
            "4/4 [==============================] - 0s 13ms/step - loss: 0.4455 - accuracy: 0.8210 - val_loss: 0.4344 - val_accuracy: 0.8360\n",
            "Epoch 187/300\n",
            "4/4 [==============================] - 0s 13ms/step - loss: 0.4452 - accuracy: 0.8300 - val_loss: 0.4338 - val_accuracy: 0.8342\n",
            "Epoch 188/300\n",
            "4/4 [==============================] - 0s 12ms/step - loss: 0.4457 - accuracy: 0.8260 - val_loss: 0.4329 - val_accuracy: 0.8361\n",
            "Epoch 189/300\n",
            "4/4 [==============================] - 0s 12ms/step - loss: 0.4454 - accuracy: 0.8235 - val_loss: 0.4324 - val_accuracy: 0.8369\n",
            "Epoch 190/300\n",
            "4/4 [==============================] - 0s 13ms/step - loss: 0.4442 - accuracy: 0.8285 - val_loss: 0.4319 - val_accuracy: 0.8357\n",
            "Epoch 191/300\n",
            "4/4 [==============================] - 0s 16ms/step - loss: 0.4428 - accuracy: 0.8285 - val_loss: 0.4314 - val_accuracy: 0.8347\n",
            "Epoch 192/300\n",
            "4/4 [==============================] - 0s 15ms/step - loss: 0.4430 - accuracy: 0.8225 - val_loss: 0.4318 - val_accuracy: 0.8371\n",
            "Epoch 193/300\n",
            "4/4 [==============================] - 0s 13ms/step - loss: 0.4423 - accuracy: 0.8275 - val_loss: 0.4305 - val_accuracy: 0.8360\n",
            "Epoch 194/300\n",
            "4/4 [==============================] - 0s 13ms/step - loss: 0.4417 - accuracy: 0.8290 - val_loss: 0.4298 - val_accuracy: 0.8356\n",
            "Epoch 195/300\n",
            "4/4 [==============================] - 0s 13ms/step - loss: 0.4409 - accuracy: 0.8280 - val_loss: 0.4295 - val_accuracy: 0.8361\n",
            "Epoch 196/300\n",
            "4/4 [==============================] - 0s 12ms/step - loss: 0.4408 - accuracy: 0.8310 - val_loss: 0.4287 - val_accuracy: 0.8369\n",
            "Epoch 197/300\n",
            "4/4 [==============================] - 0s 13ms/step - loss: 0.4411 - accuracy: 0.8230 - val_loss: 0.4282 - val_accuracy: 0.8366\n",
            "Epoch 198/300\n",
            "4/4 [==============================] - 0s 12ms/step - loss: 0.4401 - accuracy: 0.8255 - val_loss: 0.4276 - val_accuracy: 0.8367\n",
            "Epoch 199/300\n",
            "4/4 [==============================] - 0s 14ms/step - loss: 0.4392 - accuracy: 0.8315 - val_loss: 0.4271 - val_accuracy: 0.8367\n",
            "Epoch 200/300\n",
            "4/4 [==============================] - 0s 14ms/step - loss: 0.4392 - accuracy: 0.8295 - val_loss: 0.4268 - val_accuracy: 0.8365\n",
            "Epoch 201/300\n",
            "4/4 [==============================] - 0s 13ms/step - loss: 0.4392 - accuracy: 0.8255 - val_loss: 0.4265 - val_accuracy: 0.8378\n",
            "Epoch 202/300\n",
            "4/4 [==============================] - 0s 15ms/step - loss: 0.4402 - accuracy: 0.8195 - val_loss: 0.4256 - val_accuracy: 0.8367\n",
            "Epoch 203/300\n",
            "4/4 [==============================] - 0s 13ms/step - loss: 0.4369 - accuracy: 0.8310 - val_loss: 0.4252 - val_accuracy: 0.8374\n",
            "Epoch 204/300\n",
            "4/4 [==============================] - 0s 13ms/step - loss: 0.4369 - accuracy: 0.8335 - val_loss: 0.4248 - val_accuracy: 0.8380\n",
            "Epoch 205/300\n",
            "4/4 [==============================] - 0s 13ms/step - loss: 0.4370 - accuracy: 0.8270 - val_loss: 0.4245 - val_accuracy: 0.8370\n",
            "Epoch 206/300\n",
            "4/4 [==============================] - 0s 13ms/step - loss: 0.4364 - accuracy: 0.8300 - val_loss: 0.4243 - val_accuracy: 0.8375\n",
            "Epoch 207/300\n",
            "4/4 [==============================] - 0s 14ms/step - loss: 0.4359 - accuracy: 0.8330 - val_loss: 0.4234 - val_accuracy: 0.8379\n",
            "Epoch 208/300\n",
            "4/4 [==============================] - 0s 13ms/step - loss: 0.4351 - accuracy: 0.8310 - val_loss: 0.4236 - val_accuracy: 0.8385\n",
            "Epoch 209/300\n",
            "4/4 [==============================] - 0s 13ms/step - loss: 0.4348 - accuracy: 0.8250 - val_loss: 0.4225 - val_accuracy: 0.8374\n",
            "Epoch 210/300\n",
            "4/4 [==============================] - 0s 15ms/step - loss: 0.4350 - accuracy: 0.8295 - val_loss: 0.4220 - val_accuracy: 0.8385\n",
            "Epoch 211/300\n",
            "4/4 [==============================] - 0s 13ms/step - loss: 0.4341 - accuracy: 0.8300 - val_loss: 0.4215 - val_accuracy: 0.8375\n",
            "Epoch 212/300\n",
            "4/4 [==============================] - 0s 13ms/step - loss: 0.4340 - accuracy: 0.8330 - val_loss: 0.4224 - val_accuracy: 0.8364\n",
            "Epoch 213/300\n",
            "4/4 [==============================] - 0s 13ms/step - loss: 0.4341 - accuracy: 0.8280 - val_loss: 0.4208 - val_accuracy: 0.8378\n",
            "Epoch 214/300\n",
            "4/4 [==============================] - 0s 13ms/step - loss: 0.4326 - accuracy: 0.8315 - val_loss: 0.4204 - val_accuracy: 0.8375\n",
            "Epoch 215/300\n",
            "4/4 [==============================] - 0s 13ms/step - loss: 0.4323 - accuracy: 0.8330 - val_loss: 0.4202 - val_accuracy: 0.8382\n",
            "Epoch 216/300\n",
            "4/4 [==============================] - 0s 13ms/step - loss: 0.4321 - accuracy: 0.8305 - val_loss: 0.4198 - val_accuracy: 0.8384\n",
            "Epoch 217/300\n",
            "4/4 [==============================] - 0s 13ms/step - loss: 0.4320 - accuracy: 0.8300 - val_loss: 0.4193 - val_accuracy: 0.8382\n",
            "Epoch 218/300\n",
            "4/4 [==============================] - 0s 13ms/step - loss: 0.4317 - accuracy: 0.8260 - val_loss: 0.4186 - val_accuracy: 0.8378\n",
            "Epoch 219/300\n",
            "4/4 [==============================] - 0s 16ms/step - loss: 0.4305 - accuracy: 0.8335 - val_loss: 0.4181 - val_accuracy: 0.8385\n",
            "Epoch 220/300\n",
            "4/4 [==============================] - 0s 13ms/step - loss: 0.4316 - accuracy: 0.8315 - val_loss: 0.4178 - val_accuracy: 0.8393\n",
            "Epoch 221/300\n",
            "4/4 [==============================] - 0s 13ms/step - loss: 0.4311 - accuracy: 0.8315 - val_loss: 0.4174 - val_accuracy: 0.8390\n",
            "Epoch 222/300\n",
            "4/4 [==============================] - 0s 14ms/step - loss: 0.4297 - accuracy: 0.8315 - val_loss: 0.4173 - val_accuracy: 0.8390\n",
            "Epoch 223/300\n",
            "4/4 [==============================] - 0s 12ms/step - loss: 0.4301 - accuracy: 0.8300 - val_loss: 0.4167 - val_accuracy: 0.8385\n",
            "Epoch 224/300\n",
            "4/4 [==============================] - 0s 12ms/step - loss: 0.4293 - accuracy: 0.8310 - val_loss: 0.4164 - val_accuracy: 0.8389\n",
            "Epoch 225/300\n",
            "4/4 [==============================] - 0s 13ms/step - loss: 0.4299 - accuracy: 0.8265 - val_loss: 0.4159 - val_accuracy: 0.8388\n",
            "Epoch 226/300\n",
            "4/4 [==============================] - 0s 13ms/step - loss: 0.4278 - accuracy: 0.8290 - val_loss: 0.4156 - val_accuracy: 0.8399\n",
            "Epoch 227/300\n",
            "4/4 [==============================] - 0s 13ms/step - loss: 0.4283 - accuracy: 0.8295 - val_loss: 0.4151 - val_accuracy: 0.8403\n",
            "Epoch 228/300\n",
            "4/4 [==============================] - 0s 14ms/step - loss: 0.4276 - accuracy: 0.8295 - val_loss: 0.4149 - val_accuracy: 0.8396\n",
            "Epoch 229/300\n",
            "4/4 [==============================] - 0s 14ms/step - loss: 0.4273 - accuracy: 0.8310 - val_loss: 0.4155 - val_accuracy: 0.8415\n",
            "Epoch 230/300\n",
            "4/4 [==============================] - 0s 12ms/step - loss: 0.4267 - accuracy: 0.8340 - val_loss: 0.4139 - val_accuracy: 0.8389\n",
            "Epoch 231/300\n",
            "4/4 [==============================] - 0s 12ms/step - loss: 0.4268 - accuracy: 0.8325 - val_loss: 0.4135 - val_accuracy: 0.8396\n",
            "Epoch 232/300\n",
            "4/4 [==============================] - 0s 12ms/step - loss: 0.4260 - accuracy: 0.8295 - val_loss: 0.4130 - val_accuracy: 0.8397\n",
            "Epoch 233/300\n",
            "4/4 [==============================] - 0s 12ms/step - loss: 0.4259 - accuracy: 0.8320 - val_loss: 0.4126 - val_accuracy: 0.8396\n",
            "Epoch 234/300\n",
            "4/4 [==============================] - 0s 14ms/step - loss: 0.4255 - accuracy: 0.8300 - val_loss: 0.4122 - val_accuracy: 0.8396\n",
            "Epoch 235/300\n",
            "4/4 [==============================] - 0s 15ms/step - loss: 0.4255 - accuracy: 0.8310 - val_loss: 0.4118 - val_accuracy: 0.8404\n",
            "Epoch 236/300\n",
            "4/4 [==============================] - 0s 15ms/step - loss: 0.4254 - accuracy: 0.8300 - val_loss: 0.4133 - val_accuracy: 0.8419\n",
            "Epoch 237/300\n",
            "4/4 [==============================] - 0s 13ms/step - loss: 0.4242 - accuracy: 0.8300 - val_loss: 0.4111 - val_accuracy: 0.8401\n",
            "Epoch 238/300\n",
            "4/4 [==============================] - 0s 16ms/step - loss: 0.4237 - accuracy: 0.8290 - val_loss: 0.4108 - val_accuracy: 0.8413\n",
            "Epoch 239/300\n",
            "4/4 [==============================] - 0s 13ms/step - loss: 0.4239 - accuracy: 0.8295 - val_loss: 0.4119 - val_accuracy: 0.8416\n",
            "Epoch 240/300\n",
            "4/4 [==============================] - 0s 12ms/step - loss: 0.4239 - accuracy: 0.8285 - val_loss: 0.4099 - val_accuracy: 0.8400\n",
            "Epoch 241/300\n",
            "4/4 [==============================] - 0s 12ms/step - loss: 0.4230 - accuracy: 0.8300 - val_loss: 0.4096 - val_accuracy: 0.8414\n",
            "Epoch 242/300\n",
            "4/4 [==============================] - 0s 13ms/step - loss: 0.4225 - accuracy: 0.8345 - val_loss: 0.4093 - val_accuracy: 0.8414\n",
            "Epoch 243/300\n",
            "4/4 [==============================] - 0s 12ms/step - loss: 0.4220 - accuracy: 0.8300 - val_loss: 0.4089 - val_accuracy: 0.8405\n",
            "Epoch 244/300\n",
            "4/4 [==============================] - 0s 13ms/step - loss: 0.4222 - accuracy: 0.8300 - val_loss: 0.4093 - val_accuracy: 0.8431\n",
            "Epoch 245/300\n",
            "4/4 [==============================] - 0s 13ms/step - loss: 0.4222 - accuracy: 0.8290 - val_loss: 0.4084 - val_accuracy: 0.8419\n",
            "Epoch 246/300\n",
            "4/4 [==============================] - 0s 12ms/step - loss: 0.4217 - accuracy: 0.8315 - val_loss: 0.4078 - val_accuracy: 0.8407\n",
            "Epoch 247/300\n",
            "4/4 [==============================] - 0s 15ms/step - loss: 0.4199 - accuracy: 0.8300 - val_loss: 0.4074 - val_accuracy: 0.8409\n",
            "Epoch 248/300\n",
            "4/4 [==============================] - 0s 12ms/step - loss: 0.4197 - accuracy: 0.8340 - val_loss: 0.4070 - val_accuracy: 0.8401\n",
            "Epoch 249/300\n",
            "4/4 [==============================] - 0s 12ms/step - loss: 0.4205 - accuracy: 0.8290 - val_loss: 0.4065 - val_accuracy: 0.8413\n",
            "Epoch 250/300\n",
            "4/4 [==============================] - 0s 13ms/step - loss: 0.4197 - accuracy: 0.8325 - val_loss: 0.4062 - val_accuracy: 0.8405\n",
            "Epoch 251/300\n",
            "4/4 [==============================] - 0s 12ms/step - loss: 0.4191 - accuracy: 0.8285 - val_loss: 0.4058 - val_accuracy: 0.8409\n",
            "Epoch 252/300\n",
            "4/4 [==============================] - 0s 13ms/step - loss: 0.4192 - accuracy: 0.8285 - val_loss: 0.4069 - val_accuracy: 0.8428\n",
            "Epoch 253/300\n",
            "4/4 [==============================] - 0s 13ms/step - loss: 0.4186 - accuracy: 0.8310 - val_loss: 0.4050 - val_accuracy: 0.8414\n",
            "Epoch 254/300\n",
            "4/4 [==============================] - 0s 14ms/step - loss: 0.4184 - accuracy: 0.8340 - val_loss: 0.4049 - val_accuracy: 0.8428\n",
            "Epoch 255/300\n",
            "4/4 [==============================] - 0s 13ms/step - loss: 0.4173 - accuracy: 0.8335 - val_loss: 0.4045 - val_accuracy: 0.8426\n",
            "Epoch 256/300\n",
            "4/4 [==============================] - 0s 15ms/step - loss: 0.4180 - accuracy: 0.8310 - val_loss: 0.4045 - val_accuracy: 0.8419\n",
            "Epoch 257/300\n",
            "4/4 [==============================] - 0s 14ms/step - loss: 0.4175 - accuracy: 0.8340 - val_loss: 0.4036 - val_accuracy: 0.8425\n",
            "Epoch 258/300\n",
            "4/4 [==============================] - 0s 13ms/step - loss: 0.4171 - accuracy: 0.8335 - val_loss: 0.4030 - val_accuracy: 0.8420\n",
            "Epoch 259/300\n",
            "4/4 [==============================] - 0s 13ms/step - loss: 0.4156 - accuracy: 0.8320 - val_loss: 0.4028 - val_accuracy: 0.8425\n",
            "Epoch 260/300\n",
            "4/4 [==============================] - 0s 14ms/step - loss: 0.4174 - accuracy: 0.8270 - val_loss: 0.4033 - val_accuracy: 0.8432\n",
            "Epoch 261/300\n",
            "4/4 [==============================] - 0s 13ms/step - loss: 0.4152 - accuracy: 0.8285 - val_loss: 0.4020 - val_accuracy: 0.8418\n",
            "Epoch 262/300\n",
            "4/4 [==============================] - 0s 15ms/step - loss: 0.4153 - accuracy: 0.8330 - val_loss: 0.4025 - val_accuracy: 0.8438\n",
            "Epoch 263/300\n",
            "4/4 [==============================] - 0s 15ms/step - loss: 0.4164 - accuracy: 0.8300 - val_loss: 0.4014 - val_accuracy: 0.8425\n",
            "Epoch 264/300\n",
            "4/4 [==============================] - 0s 14ms/step - loss: 0.4157 - accuracy: 0.8295 - val_loss: 0.4012 - val_accuracy: 0.8424\n",
            "Epoch 265/300\n",
            "4/4 [==============================] - 0s 13ms/step - loss: 0.4153 - accuracy: 0.8310 - val_loss: 0.4013 - val_accuracy: 0.8438\n",
            "Epoch 266/300\n",
            "4/4 [==============================] - 0s 17ms/step - loss: 0.4147 - accuracy: 0.8310 - val_loss: 0.4011 - val_accuracy: 0.8436\n",
            "Epoch 267/300\n",
            "4/4 [==============================] - 0s 15ms/step - loss: 0.4140 - accuracy: 0.8330 - val_loss: 0.4007 - val_accuracy: 0.8439\n",
            "Epoch 268/300\n",
            "4/4 [==============================] - 0s 13ms/step - loss: 0.4131 - accuracy: 0.8310 - val_loss: 0.4001 - val_accuracy: 0.8428\n",
            "Epoch 269/300\n",
            "4/4 [==============================] - 0s 13ms/step - loss: 0.4133 - accuracy: 0.8285 - val_loss: 0.3996 - val_accuracy: 0.8431\n",
            "Epoch 270/300\n",
            "4/4 [==============================] - 0s 15ms/step - loss: 0.4140 - accuracy: 0.8305 - val_loss: 0.3994 - val_accuracy: 0.8431\n",
            "Epoch 271/300\n",
            "4/4 [==============================] - 0s 12ms/step - loss: 0.4129 - accuracy: 0.8335 - val_loss: 0.3991 - val_accuracy: 0.8439\n",
            "Epoch 272/300\n",
            "4/4 [==============================] - 0s 13ms/step - loss: 0.4127 - accuracy: 0.8320 - val_loss: 0.3987 - val_accuracy: 0.8432\n",
            "Epoch 273/300\n",
            "4/4 [==============================] - 0s 13ms/step - loss: 0.4128 - accuracy: 0.8280 - val_loss: 0.3985 - val_accuracy: 0.8435\n",
            "Epoch 274/300\n",
            "4/4 [==============================] - 0s 13ms/step - loss: 0.4121 - accuracy: 0.8345 - val_loss: 0.3981 - val_accuracy: 0.8428\n",
            "Epoch 275/300\n",
            "4/4 [==============================] - 0s 15ms/step - loss: 0.4116 - accuracy: 0.8310 - val_loss: 0.3978 - val_accuracy: 0.8435\n",
            "Epoch 276/300\n",
            "4/4 [==============================] - 0s 12ms/step - loss: 0.4110 - accuracy: 0.8335 - val_loss: 0.3976 - val_accuracy: 0.8439\n",
            "Epoch 277/300\n",
            "4/4 [==============================] - 0s 13ms/step - loss: 0.4107 - accuracy: 0.8320 - val_loss: 0.3975 - val_accuracy: 0.8451\n",
            "Epoch 278/300\n",
            "4/4 [==============================] - 0s 13ms/step - loss: 0.4117 - accuracy: 0.8305 - val_loss: 0.3969 - val_accuracy: 0.8438\n",
            "Epoch 279/300\n",
            "4/4 [==============================] - 0s 13ms/step - loss: 0.4107 - accuracy: 0.8345 - val_loss: 0.3964 - val_accuracy: 0.8436\n",
            "Epoch 280/300\n",
            "4/4 [==============================] - 0s 13ms/step - loss: 0.4106 - accuracy: 0.8280 - val_loss: 0.3961 - val_accuracy: 0.8435\n",
            "Epoch 281/300\n",
            "4/4 [==============================] - 0s 12ms/step - loss: 0.4103 - accuracy: 0.8335 - val_loss: 0.3960 - val_accuracy: 0.8447\n",
            "Epoch 282/300\n",
            "4/4 [==============================] - 0s 12ms/step - loss: 0.4101 - accuracy: 0.8310 - val_loss: 0.3956 - val_accuracy: 0.8441\n",
            "Epoch 283/300\n",
            "4/4 [==============================] - 0s 15ms/step - loss: 0.4091 - accuracy: 0.8340 - val_loss: 0.3952 - val_accuracy: 0.8455\n",
            "Epoch 284/300\n",
            "4/4 [==============================] - 0s 16ms/step - loss: 0.4083 - accuracy: 0.8305 - val_loss: 0.3949 - val_accuracy: 0.8450\n",
            "Epoch 285/300\n",
            "4/4 [==============================] - 0s 13ms/step - loss: 0.4084 - accuracy: 0.8315 - val_loss: 0.3945 - val_accuracy: 0.8456\n",
            "Epoch 286/300\n",
            "4/4 [==============================] - 0s 13ms/step - loss: 0.4084 - accuracy: 0.8300 - val_loss: 0.3945 - val_accuracy: 0.8432\n",
            "Epoch 287/300\n",
            "4/4 [==============================] - 0s 14ms/step - loss: 0.4101 - accuracy: 0.8315 - val_loss: 0.3939 - val_accuracy: 0.8441\n",
            "Epoch 288/300\n",
            "4/4 [==============================] - 0s 13ms/step - loss: 0.4079 - accuracy: 0.8325 - val_loss: 0.3937 - val_accuracy: 0.8443\n",
            "Epoch 289/300\n",
            "4/4 [==============================] - 0s 13ms/step - loss: 0.4083 - accuracy: 0.8325 - val_loss: 0.3936 - val_accuracy: 0.8456\n",
            "Epoch 290/300\n",
            "4/4 [==============================] - 0s 12ms/step - loss: 0.4079 - accuracy: 0.8300 - val_loss: 0.3930 - val_accuracy: 0.8440\n",
            "Epoch 291/300\n",
            "4/4 [==============================] - 0s 13ms/step - loss: 0.4072 - accuracy: 0.8320 - val_loss: 0.3927 - val_accuracy: 0.8439\n",
            "Epoch 292/300\n",
            "4/4 [==============================] - 0s 13ms/step - loss: 0.4066 - accuracy: 0.8330 - val_loss: 0.3927 - val_accuracy: 0.8462\n",
            "Epoch 293/300\n",
            "4/4 [==============================] - 0s 13ms/step - loss: 0.4069 - accuracy: 0.8305 - val_loss: 0.3929 - val_accuracy: 0.8456\n",
            "Epoch 294/300\n",
            "4/4 [==============================] - 0s 14ms/step - loss: 0.4076 - accuracy: 0.8315 - val_loss: 0.3920 - val_accuracy: 0.8459\n",
            "Epoch 295/300\n",
            "4/4 [==============================] - 0s 47ms/step - loss: 0.4059 - accuracy: 0.8285 - val_loss: 0.3928 - val_accuracy: 0.8436\n",
            "Epoch 296/300\n",
            "4/4 [==============================] - 0s 12ms/step - loss: 0.4054 - accuracy: 0.8335 - val_loss: 0.3918 - val_accuracy: 0.8457\n",
            "Epoch 297/300\n",
            "4/4 [==============================] - 0s 14ms/step - loss: 0.4053 - accuracy: 0.8330 - val_loss: 0.3920 - val_accuracy: 0.8462\n",
            "Epoch 298/300\n",
            "4/4 [==============================] - 0s 12ms/step - loss: 0.4051 - accuracy: 0.8280 - val_loss: 0.3909 - val_accuracy: 0.8447\n",
            "Epoch 299/300\n",
            "4/4 [==============================] - 0s 12ms/step - loss: 0.4053 - accuracy: 0.8330 - val_loss: 0.3909 - val_accuracy: 0.8449\n",
            "Epoch 300/300\n",
            "4/4 [==============================] - 0s 13ms/step - loss: 0.4055 - accuracy: 0.8335 - val_loss: 0.3903 - val_accuracy: 0.8445\n"
          ],
          "name": "stdout"
        }
      ]
    },
    {
      "cell_type": "markdown",
      "metadata": {
        "id": "Vc0OltkGbjry",
        "colab_type": "text"
      },
      "source": [
        "graphing the model"
      ]
    },
    {
      "cell_type": "code",
      "metadata": {
        "id": "ekBO0_w3VpXX",
        "colab_type": "code",
        "outputId": "f9a73e52-1dca-4695-e244-ea7cf495bb2d",
        "colab": {
          "base_uri": "https://localhost:8080/",
          "height": 320
        }
      },
      "source": [
        "import pandas as pd\n",
        "import matplotlib.pyplot as plt\n",
        "from matplotlib.ticker import (AutoMinorLocator, MultipleLocator)\n",
        "\n",
        "pd.DataFrame(history.history).plot(figsize=(10, 5))\n",
        "plt.grid(True)\n",
        "\n",
        "plt.gca().set_ylim(0, 1.1) \n",
        "plt.gca().set_xlim(0, 300)\n",
        "\n",
        "plt.gca().xaxis.set_major_locator(MultipleLocator(2))\n",
        "\n",
        "plt.gca().xaxis.set_major_formatter(plt.FuncFormatter(lambda x, _ : int(x + 1)))\n",
        "\n",
        "plt.gca().xaxis.set_minor_locator(AutoMinorLocator(2))\n",
        "plt.gca().grid(which='minor', color='#CCCCCC', linestyle='--')\n",
        "\n",
        "plt.show()"
      ],
      "execution_count": 9,
      "outputs": [
        {
          "output_type": "display_data",
          "data": {
            "image/png": "[encoded data removed]",
            "text/plain": [
              "<Figure size 720x360 with 1 Axes>"
            ]
          },
          "metadata": {
            "tags": []
          }
        }
      ]
    },
    {
      "cell_type": "markdown",
      "metadata": {
        "id": "4Bmd1hlYbu-L",
        "colab_type": "text"
      },
      "source": [
        "comparing the true line of seperation to the line of seperation generated by the model.\n",
        "\n",
        "The white line is the true line, the black line is the one generated by the model."
      ]
    },
    {
      "cell_type": "markdown",
      "metadata": {
        "id": "o_zEhtFicNcd",
        "colab_type": "text"
      },
      "source": [
        "##how to derive the line of seperation\n",
        "the equation of a line with two weights like our model is:\n",
        "\n",
        "> w1(x) + w2(y) + b = 0\n",
        "\n",
        "the equations for the x-intercepts and y-intercepts are:\n",
        "\n",
        "\n",
        "> y-intercept = (0, -b / w2)\n",
        "> x-intercept = (-b / w1, 0)\n",
        "\n",
        "find the slope from these points\n",
        "\n",
        "\n",
        "> m = (-b/w2) / (b/w1)\n",
        "\n",
        "combine these to get slope-intercept form which is the final answer for the slope of the line of seperation\n",
        "\n",
        "\n",
        "> y = (-(b / w2) / (b / w1))x + (-b / w2)\n",
        "\n",
        "\n",
        "\n",
        "\n",
        "\n"
      ]
    },
    {
      "cell_type": "code",
      "metadata": {
        "id": "1Eme1C_2XHH7",
        "colab_type": "code",
        "colab": {
          "base_uri": "https://localhost:8080/",
          "height": 265
        },
        "outputId": "9a6256e6-74a9-4ad1-dc89-580d8b398a12"
      },
      "source": [
        "true_line_x = np.linspace(0, 1, 100)\n",
        "true_line_y = w * true_line_x + b\n",
        "\n",
        "weights = network.layers[0].get_weights()\n",
        "model_b = weights[1][0]\n",
        "w1 =  weights[0][0]\n",
        "w2 = weights[0][1]\n",
        "\n",
        "model_line_x = true_line_x\n",
        "model_line_y = ((-1 * model_b / w2) / (model_b / w1)) * model_line_x + (-1 * model_b / w2)\n",
        "\n",
        "plt.plot(true_line_x, true_line_y, color=\"white\")\n",
        "plt.plot(model_line_x, model_line_y, color=\"black\")\n",
        "display_random_data(data, labels)"
      ],
      "execution_count": 6,
      "outputs": [
        {
          "output_type": "display_data",
          "data": {
            "image/png": "[encoded data removed]",
            "text/plain": [
              "<Figure size 432x288 with 1 Axes>"
            ]
          },
          "metadata": {
            "tags": []
          }
        }
      ]
    },
    {
      "cell_type": "markdown",
      "metadata": {
        "id": "tJf_y2prgVaD",
        "colab_type": "text"
      },
      "source": [
        "heatmap of the models predictions"
      ]
    },
    {
      "cell_type": "code",
      "metadata": {
        "id": "0akLkslNvlKp",
        "colab_type": "code",
        "outputId": "560474a8-65ba-49a1-ed79-ae21d94a89b9",
        "colab": {
          "base_uri": "https://localhost:8080/",
          "height": 269
        }
      },
      "source": [
        "x_cont = np.linspace(0, 1, 100)\n",
        "y_cont = np.linspace(0, 10, 100)\n",
        "X, Y = np.meshgrid(x_cont, y_cont)\n",
        "\n",
        "input_heat = np.column_stack((X.flatten(), Y.flatten()))\n",
        "Z = network.predict(input_heat)\n",
        "Z = Z.reshape(X.shape)\n",
        "\n",
        "plt.contourf(X, Y, Z, 50, cmap='RdGy')\n",
        "plt.colorbar();\n",
        "plt.show()"
      ],
      "execution_count": 25,
      "outputs": [
        {
          "output_type": "display_data",
          "data": {
            "image/png": "[encoded data removed]",
            "text/plain": [
              "<Figure size 432x288 with 2 Axes>"
            ]
          },
          "metadata": {
            "tags": []
          }
        }
      ]
    },
    {
      "cell_type": "markdown",
      "metadata": {
        "id": "U2tcv_xDpcES",
        "colab_type": "text"
      },
      "source": [
        "# Problem 3"
      ]
    }
  ]
}