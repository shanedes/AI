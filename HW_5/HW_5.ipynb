{
  "nbformat": 4,
  "nbformat_minor": 0,
  "metadata": {
    "colab": {
      "name": "HW_5.ipynb",
      "provenance": [],
      "authorship_tag": "ABX9TyMacDMR2UzRyJIRbsJN4EmL",
      "include_colab_link": true
    },
    "kernelspec": {
      "name": "python3",
      "display_name": "Python 3"
    }
  },
  "cells": [
    {
      "cell_type": "markdown",
      "metadata": {
        "id": "view-in-github",
        "colab_type": "text"
      },
      "source": [
        "<a href=\"https://colab.research.google.com/github/shanedes/AI/blob/master/HW_5/HW_5.ipynb\" target=\"_parent\"><img src=\"https://colab.research.google.com/assets/colab-badge.svg\" alt=\"Open In Colab\"/></a>"
      ]
    },
    {
      "cell_type": "markdown",
      "metadata": {
        "id": "dE3A9gpQI3xH",
        "colab_type": "text"
      },
      "source": [
        "#Category 1: General Concepts\n",
        "###Artificial Intelligence - \n",
        "\n",
        "* AI is essentially the an attempt at creating programs that can produce the same results as a the complex brain of a human.\n",
        "\n",
        "* Official Definition: A computer system able to perform tasks that normally require human intelligence, such as visual perception, speech recognition, decision-making, and translation between langauges.\n",
        "\n",
        "\n",
        "###Machine Learning -\n",
        "* A program that dynamically develops itself based on data. Creating a model that can predictions based on a set of data.\n",
        "* A subset of Artificial Intelligence\n",
        "\n",
        "\n",
        "###Deep Learning -\n",
        "* Generally refers to the use of Neural Networks, an implementation of machine learning that is based on the neuron stucture used in our brains.\n",
        "* A subset of machine learning.\n"
      ]
    },
    {
      "cell_type": "markdown",
      "metadata": {
        "id": "UPaloTouL4uc",
        "colab_type": "text"
      },
      "source": [
        "#Category 2: Basic Concepts\n"
      ]
    }
  ]
}