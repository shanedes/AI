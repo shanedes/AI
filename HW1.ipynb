{
  "nbformat": 4,
  "nbformat_minor": 0,
  "metadata": {
    "colab": {
      "name": "Untitled0.ipynb",
      "provenance": [],
      "authorship_tag": "ABX9TyMMNgk7gvi5BVM3l0ozOw+S",
      "include_colab_link": true
    },
    "kernelspec": {
      "name": "python3",
      "display_name": "Python 3"
    }
  },
  "cells": [
    {
      "cell_type": "markdown",
      "metadata": {
        "id": "view-in-github",
        "colab_type": "text"
      },
      "source": [
        "<a href=\"https://colab.research.google.com/github/shanedes/AI/blob/master/HW1.ipynb\" target=\"_parent\"><img src=\"https://colab.research.google.com/assets/colab-badge.svg\" alt=\"Open In Colab\"/></a>"
      ]
    },
    {
      "cell_type": "markdown",
      "metadata": {
        "id": "DaFaYYSoxmiT",
        "colab_type": "text"
      },
      "source": [
        "# HW1 Shane DeSilva\n",
        "\n",
        "This program defines a function that takes in a list of numpy arrays and returns a numpy array of all of them multiplied in their original order.\n",
        "\n",
        "This program will raise a custom *DimensionMismatchError* exception whenever the inner dimension of two consecutive matrices do not match.\n",
        "\n",
        "Consecutive matrices need to be of the form\n",
        "$M_{mxn} * M_{nxm} $ in order to be multiplied sucessfully.\n",
        "\n",
        "An example of when an exception will be raised would be $M_{2x3} * M_{4x3} $. This is invalid since 3 and 4 do not match."
      ]
    },
    {
      "cell_type": "code",
      "metadata": {
        "colab_type": "code",
        "id": "C4HZx7Gndbrh",
        "outputId": "43bd8ce0-0c06-4848-eb9e-af5b569cb052",
        "colab": {
          "base_uri": "https://localhost:8080/",
          "height": 68
        }
      },
      "source": [
        "class Error(Exception):\n",
        "   \"\"\"Base class for other exceptions\"\"\"\n",
        "   pass\n",
        "\n",
        "class DimensionMismatchError(Error):\n",
        "   \"\"\"Raised when the inner dimensions of the matrices do not match\"\"\"\n",
        "   pass\n",
        "\n",
        "import numpy as np\n",
        "from matplotlib import pyplot as plt\n",
        "\n",
        "def multiply_matrices(li):\n",
        "  i = 1\n",
        "  try:\n",
        "    n = len(li)\n",
        "    \n",
        "    if n>0:\n",
        "      a1 = li[0]\n",
        "\n",
        "    while i < n:\n",
        "\n",
        "      a2 = li[i]\n",
        "      s1 = a1.shape\n",
        "      s2 = a2.shape\n",
        "\n",
        "      if a1.ndim != 2:\n",
        "        s1 = (1,) + s1\n",
        "\n",
        "      if a2.ndim != 2:\n",
        "        s2 = (1,) + s2\n",
        "\n",
        "      if s1[1] != s2[0]:\n",
        "        raise DimensionMismatchError\n",
        "\n",
        "      a1 = np.matmul(a1, a2)\n",
        "      i += 1\n",
        "\n",
        "  except DimensionMismatchError:\n",
        "    print(\"The inner dimensions of matrices at indices \" + str(i-1) + \" and \" + str(i) +\" do not match\")\n",
        "  else:\n",
        "    return a1\n",
        "\n",
        "i1 = np.array([[1,0],[0,1]])\n",
        "a1 = np.array([[2,1],[1,1]])\n",
        "a2 = np.array([[1,1,1],[1,1,1]])\n",
        "i3 = np.array([[1,0,0],[0,1,0],[0,0,1]])\n",
        "a3 = np.array([[1,0],[0,1],[0,0]])\n",
        "#exception will be thrown since a3 has dimensions 3x2 and i3 has dimensions 3x3\n",
        "multiply_matrices([i1,a1,a2,i3,a3,i3])\n",
        "multiply_matrices([i1,a1,a2,i3,a3])"
      ],
      "execution_count": 66,
      "outputs": [
        {
          "output_type": "stream",
          "text": [
            "The inner dimensions of matrices at indices 4 and 5 do not match\n"
          ],
          "name": "stdout"
        },
        {
          "output_type": "execute_result",
          "data": {
            "text/plain": [
              "array([[3, 3],\n",
              "       [2, 2]])"
            ]
          },
          "metadata": {
            "tags": []
          },
          "execution_count": 66
        }
      ]
    },
    {
      "cell_type": "markdown",
      "metadata": {
        "id": "yx2GmkqW2IEK",
        "colab_type": "text"
      },
      "source": [
        "\n",
        "The first run of multiply_matrices will raise an exception since a3 has dimensions 3x2 and i3 has dimensions 3x3.\n",
        "\n",
        "The second run of multiply_matrices will run sucessfully since the dimensions of the inputed matrices are 2x2, 2x2, 2x3, 3x3, 3x2 in the order they are given in the list."
      ]
    }
  ]
}